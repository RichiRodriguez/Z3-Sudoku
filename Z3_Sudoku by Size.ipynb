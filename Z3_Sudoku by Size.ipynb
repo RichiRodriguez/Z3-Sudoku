{
 "cells": [
  {
   "cell_type": "markdown",
   "id": "3b94a1c5",
   "metadata": {},
   "source": [
    "# Introduction\n",
    "\n",
    "Sudoku is a logic-based puzzle that originated in Japan.  It is appealing to people because the level of difficulty can be chosen by the user.  The levels of difficulty range from super easy to difficult.  Acceptance grew rapidly once it was introduced outside of Japan, partially because upon a quick look at a Sudoku puzzle, one can easily confuse it with a crossword puzzle (see figure 1).\t\n",
    "\n",
    "A typical Sudoku puzzle consists of a 9x9 grid that features the numbers 1-9.  As shown in figure 1, there is a main box around the 9x9 grid, but there are mini boxes of size 3x3, as seen in the grid.\t\n",
    "\n",
    "In order to win, a user must follow specific rules.  The main rules are:\n",
    "* The user can only use the numbers 1 to 9.\n",
    "* Every mini box (grid size 3x3) can only contain the numbers 1 to 9.\n",
    "* Every mini box cannot have duplicate numbers.\t\n",
    "* Every vertical column can only contain the numbers 1 to 9.\n",
    "* Every vertical column cannot have duplicate numbers.\t\n",
    "* Every horizontal row can only contain the numbers 1 to 9.\n",
    "* Every horizontal row cannot have duplicate numbers.\n",
    "\n",
    "Failure to follow the rules will result in duplicate numbers in either a mini box, a vertical column, or a horizontal row.  If the rules are followed, then the Sudoku puzzle is solved.\t\n",
    "\n",
    "\n",
    "# Proposed Approach\t\n",
    "\n",
    "My proposed approach is to use the Sudoku rules mentioned in the introduction.  Looking at all the rules at the same time can be stressing, but if I decompose the problems into smaller ones, then the problem is approachable as follows:\t\n",
    "\n",
    "Let $\\textbf{ψ}$ represent all the columns, such that $\\textbf{ψ_i}$ represents the $\\textbf{i^{th}}$ column\t\n",
    "Let $\\textbf{ϕ}$ represent all the rows, such that $\\textbf{ϕ_j}$ represents the $\\textbf{j^{th}}$ row\t\n",
    "Let $\\textbf{φ}$ represent all the mini boxes, such that $\\textbf{φ_k}$ represents the $\\textbf{k^{th}}$ mini box\t\n",
    "\n",
    "Having assigned the columns, rows, and mini boxes to symbols, I can now enforce the rules presented in the introduction.  To verify, for example, that $\\textbf{ψ_1}$ holds, I would need to verify that for every number in $\\textbf{ψ_1}$ that there are no duplicates. I would then need to perform the same test on $\\textbf{ψ_2…ψ_9}$.  After performing that test, $\\textbf{ψ}$ will hold if and only if  $\\textbf{ψ_1∧ψ_2∧ψ_3∧ψ_4∧ψ_5∧ψ_6∧ψ_7∧ψ_8∧ψ_9}$ holds.  The same will hold true for $\\textbf{ϕ}$ (all the rows) and for $\\textbf{φ}$ (all the mini boxes).  \n",
    "\n",
    "Following this logic, if $\\textbf{ψ∧ϕ∧φ}$ holds, then all the rules have been followed and the user has solve the Sudoku puzzle.\n",
    "\n",
    "While I have previously completed a Sudoku solver using dynamic programing, this time I plan on using a satisfiability module theory (SMT) solver, specifically the Z3 SMT solver.  This will allow me to apply the knowledge learned from class and to learn to program in the Z3 environment.\t\n"
   ]
  },
  {
   "cell_type": "markdown",
   "id": "2c08f5eb",
   "metadata": {},
   "source": [
    "$\\Phi$ $\\Psi$  \n",
    "$$\\phi_1$$"
   ]
  },
  {
   "cell_type": "markdown",
   "id": "10d1dd53",
   "metadata": {},
   "source": [
    "### Required Imports"
   ]
  },
  {
   "cell_type": "code",
   "execution_count": 1,
   "id": "d4a9995c",
   "metadata": {},
   "outputs": [],
   "source": [
    "from z3 import *\n",
    "from datetime import datetime\n",
    "import numpy as np\n",
    "import pickle"
   ]
  },
  {
   "cell_type": "markdown",
   "id": "b62fd066",
   "metadata": {},
   "source": [
    "### Configuration"
   ]
  },
  {
   "cell_type": "code",
   "execution_count": 41,
   "id": "aa43e9f3",
   "metadata": {},
   "outputs": [],
   "source": [
    "size = 25"
   ]
  },
  {
   "cell_type": "markdown",
   "id": "34e3b6c4",
   "metadata": {},
   "source": [
    "# Restraints (from introduction)\n",
    "\n",
    "As a recap, here are the restraints that my Sudoku Z3 solver requires\n",
    "\n",
    "* <span style=\"color:green\">Every mini box (grid size 3x3) can only contain the numbers 1 to 9.</span> (<span style=\"color:red\">Constraint 1</span>)\n",
    "* Every mini box cannot have duplicate numbers.  \n",
    "* <span style=\"color:green\">Every vertical column can only contain the numbers 1 to 9.</span> (<span style=\"color:red\">Constraint 2</span>)\n",
    "* Every vertical column cannot have duplicate numbers.  \n",
    "* <span style=\"color:green\">Every horizontal row can only contain the numbers 1 to 9.</span> (<span style=\"color:red\">Constraint 3</span>)\n",
    "* Every horizontal row cannot have duplicate numbers.  \n",
    "* <span style=\"color:green\">Every mini box can only contain the numbers 1 to 9.</span> (<span style=\"color:red\">Constraint 4</span>)  \n",
    "* Every box cannot have duplicate numbers.  "
   ]
  },
  {
   "cell_type": "markdown",
   "id": "7b9324b5",
   "metadata": {},
   "source": [
    "### Solution\n",
    "\n",
    "We first set the solution to restrict every element (shown in <span style=\"color:green\">green above</span>).\n",
    "\n",
    "We'll first create integer references for all locations, $L$, in the form $L_{ij}$ where $i$ refers to the rows and $j$ refers to the columns."
   ]
  },
  {
   "cell_type": "code",
   "execution_count": 42,
   "id": "47af61f3",
   "metadata": {},
   "outputs": [],
   "source": [
    "L = []\n",
    "for row in range(size):\n",
    "    L.append( [Int(f'L_{row}{col}') for col in range(size)] )"
   ]
  },
  {
   "cell_type": "markdown",
   "id": "f496807e",
   "metadata": {},
   "source": [
    "Next, we create the first restraint: a conjunction for every location ($L_{ij}$) where $1 \\leq L_{ij} \\leq 9$, then we check the constraints, such that  \n",
    "`constraint_1` = \n",
    "$$\\begin{align}\n",
    "&L_{00} \\wedge L_{01} \\wedge L_{02} \\wedge L_{03} \\wedge L_{04} \\wedge L_{05} \\wedge L_{06} \\wedge L_{07} \\wedge L_{08} \\wedge \\\\\n",
    "&L_{10} \\wedge L_{11} \\wedge L_{12} \\wedge L_{13} \\wedge L_{14} \\wedge L_{15} \\wedge L_{16} \\wedge L_{17} \\wedge L_{18} \\wedge \\\\\n",
    "&L_{20} \\wedge L_{21} \\wedge L_{22} \\wedge L_{23} \\wedge L_{24} \\wedge L_{25} \\wedge L_{26} \\wedge L_{27} \\wedge L_{28} \\wedge \\\\\n",
    "&L_{30} \\wedge L_{31} \\wedge L_{32} \\wedge L_{33} \\wedge L_{34} \\wedge L_{35} \\wedge L_{36} \\wedge L_{37} \\wedge L_{38} \\wedge \\\\\n",
    "&L_{40} \\wedge L_{41} \\wedge L_{42} \\wedge L_{43} \\wedge L_{44} \\wedge L_{45} \\wedge L_{46} \\wedge L_{47} \\wedge L_{48} \\wedge \\\\\n",
    "&L_{50} \\wedge L_{51} \\wedge L_{52} \\wedge L_{53} \\wedge L_{54} \\wedge L_{55} \\wedge L_{56} \\wedge L_{57} \\wedge L_{58} \\wedge \\\\\n",
    "&L_{60} \\wedge L_{61} \\wedge L_{62} \\wedge L_{63} \\wedge L_{64} \\wedge L_{65} \\wedge L_{66} \\wedge L_{67} \\wedge L_{68} \\wedge \\\\\n",
    "&L_{70} \\wedge L_{71} \\wedge L_{72} \\wedge L_{73} \\wedge L_{74} \\wedge L_{75} \\wedge L_{76} \\wedge L_{77} \\wedge L_{78} \\wedge \\\\\n",
    "&L_{80} \\wedge L_{81} \\wedge L_{82} \\wedge L_{83} \\wedge L_{84} \\wedge L_{85} \\wedge L_{86} \\wedge L_{87} \\wedge L_{88}\n",
    "\\end{align}$$"
   ]
  },
  {
   "cell_type": "code",
   "execution_count": 43,
   "id": "4a41684f",
   "metadata": {},
   "outputs": [],
   "source": [
    "constraint_1 = [ And( L[row][col] >= 1, L[row][col] <= size)  for col in range(size) for row in range(size) ]"
   ]
  },
  {
   "cell_type": "markdown",
   "id": "481df71d",
   "metadata": {},
   "source": [
    "We now create the second restraint: every vertical column cannot have duplicate numbers, meaning that each vertical column can only contain distinct values. To accomplish this, we create an array of arrays, where each inner array represents a conjunction of each column, such as  \n",
    "`constraint_2` =  \n",
    "$$\n",
    "\\text{Column 1}: L_{00} \\wedge L_{10} \\wedge \\cdots \\wedge L_{70} \\wedge L_{80} \\\\\n",
    "\\text{Column 2}: L_{01} \\wedge L_{11} \\wedge \\cdots \\wedge L_{71} \\wedge L_{81} \\\\\n",
    "\\vdots \\hspace{3.5cm} \\vdots \\hspace{1.5cm} \\\\\n",
    "\\text{Column 8}: L_{07} \\wedge L_{17} \\wedge \\cdots \\wedge L_{77} \\wedge L_{87} \\\\\n",
    "\\text{Column 9}: L_{08} \\wedge L_{18} \\wedge \\cdots \\wedge L_{78} \\wedge L_{88} \\\\\n",
    "$$"
   ]
  },
  {
   "cell_type": "code",
   "execution_count": 44,
   "id": "fb6419d3",
   "metadata": {},
   "outputs": [],
   "source": [
    "constraint_2 = []\n",
    "for col in range(size):\n",
    "    constraint_2.append( Distinct( [L[row][col] for row in range(size)] ) )"
   ]
  },
  {
   "cell_type": "markdown",
   "id": "947c8526",
   "metadata": {},
   "source": [
    "We now create the third restraint: every horizontal row cannot have duplicate numbers, meaning that each horizontal row can only contain distinct values. To accomplish this, we create an array of arrays, where each inner array represents a conjunction of each row, such as  \n",
    "`constraint_3` =  \n",
    "$$\n",
    "\\text{Row 1}: L_{00} \\wedge L_{01} \\wedge \\cdots \\wedge L_{07} \\wedge L_{08} \\\\\n",
    "\\text{Row 2}: L_{10} \\wedge L_{11} \\wedge \\cdots \\wedge L_{17} \\wedge L_{18} \\\\\n",
    "\\vdots \\hspace{3.25cm} \\vdots \\hspace{1.90cm} \\\\\n",
    "\\text{Row 8}: L_{70} \\wedge L_{71} \\wedge \\cdots \\wedge L_{77} \\wedge L_{78} \\\\\n",
    "\\text{Row 9}: L_{88} \\wedge L_{88} \\wedge \\cdots \\wedge L_{87} \\wedge L_{88} \\\\\n",
    "$$"
   ]
  },
  {
   "cell_type": "code",
   "execution_count": 45,
   "id": "e73dbc98",
   "metadata": {},
   "outputs": [],
   "source": [
    "constraint_3 = []\n",
    "for row in range(size):\n",
    "    constraint_3.append( Distinct( [L[row][col] for col in range(size)] ) )"
   ]
  },
  {
   "cell_type": "markdown",
   "id": "5be4a1ff",
   "metadata": {},
   "source": [
    "We now create the fourth restraint: every mini box cannot have duplicate numbers, meaning that every mini box can only contain distinct values.  To accomplish this, we create helper a helper function, that given an $ij$ location for a mini box, will return a distinct mini box, such as\n",
    "`constraint_4` =  \n",
    "\n",
    "<img src=\"picture.jpg\" alt=\"Paris\" width=\"500px\" class=\"center\">"
   ]
  },
  {
   "cell_type": "code",
   "execution_count": 46,
   "id": "18902f3e",
   "metadata": {
    "scrolled": true
   },
   "outputs": [
    {
     "name": "stdout",
     "output_type": "stream",
     "text": [
      "mini_size=5\n"
     ]
    }
   ],
   "source": [
    "def get_mini_grid(array, i, j, size):\n",
    "    return [ L[i * size + y][j * size + x] for y in range(size) for x in range(size) ]\n",
    "\n",
    "mini_size = size // int(size**0.5)\n",
    "print(f'{mini_size=}')\n",
    "\n",
    "constraint_4 = [ Distinct( get_mini_grid(L, y, x, mini_size) )  for y in range(mini_size) for x in range(mini_size) ]  "
   ]
  },
  {
   "cell_type": "markdown",
   "id": "0db2f5da",
   "metadata": {},
   "source": [
    "### Create The Solver\n",
    "\n",
    "Now we create the solver and add the restraints"
   ]
  },
  {
   "cell_type": "code",
   "execution_count": 47,
   "id": "1f84564d",
   "metadata": {},
   "outputs": [],
   "source": [
    "s = Solver()\n",
    "s.add(constraint_1)\n",
    "s.add(constraint_2)\n",
    "s.add(constraint_3)\n",
    "s.add(constraint_4)"
   ]
  },
  {
   "cell_type": "code",
   "execution_count": 48,
   "id": "613b1ba0",
   "metadata": {},
   "outputs": [],
   "source": [
    "puzzle = (\n",
    "    (0,0,0,0,0,0,0,0,0,0,0,0,0,0,0,1),\n",
    "    (0,0,0,0,0,0,0,0,0,0,0,0,0,0,0,0),\n",
    "    (0,0,0,0,0,0,0,3,0,0,0,13,0,0,0,4),\n",
    "    (0,0,0,0,0,0,0,0,0,0,0,0,0,0,0,0),\n",
    "    (0,0,1,0,0,0,0,0,0,0,0,0,0,0,0,0),\n",
    "    (0,0,0,0,0,0,0,0,0,0,0,0,0,0,0,0),\n",
    "    (0,0,0,0,0,0,0,0,0,0,0,0,0,0,0,0),\n",
    "    (0,0,0,0,0,0,15,0,0,0,0,0,0,0,0,0),\n",
    "    (0,0,0,0,0,0,0,0,0,0,0,0,0,0,0,0),\n",
    "    (0,0,0,0,0,0,0,0,0,0,0,0,0,7,0,0),\n",
    "    (0,0,0,0,0,0,0,0,0,0,0,0,0,0,0,0),\n",
    "    (0,0,0,5,0,0,0,0,0,0,0,0,0,0,0,0),\n",
    "    (0,0,0,0,0,0,0,0,0,0,0,0,0,0,0,0),\n",
    "    (0,0,0,0,0,0,0,0,0,0,9,0,0,0,0,8),\n",
    "    (0,0,0,0,0,0,0,0,0,0,0,0,0,0,0,0),\n",
    "    (0,0,0,7,0,0,0,0,0,0,0,0,12,0,0,0),\n",
    ")"
   ]
  },
  {
   "cell_type": "markdown",
   "id": "be12b74c",
   "metadata": {},
   "source": [
    "Copy the Sudoku puzzle corresponding to every location in $L_{ij}$ and add them as constraint.  If a number is added, then it's a literal, otherwise it's left open for the Z3 solver to solve."
   ]
  },
  {
   "cell_type": "code",
   "execution_count": 49,
   "id": "1ed365c4",
   "metadata": {},
   "outputs": [],
   "source": [
    "# puzzle = (\n",
    "#     (0,7,2,0,0,0,1,0,0),\n",
    "#     (9,0,4,0,0,0,0,0,6),\n",
    "#     (0,0,0,0,7,5,0,0,2),\n",
    "#     (0,3,6,0,0,4,0,0,0),\n",
    "#     (4,0,0,0,9,0,0,0,3),\n",
    "#     (0,0,0,3,0,0,6,1,0),\n",
    "#     (3,0,0,9,8,0,0,0,0),\n",
    "#     (7,0,0,0,0,0,3,0,9),\n",
    "#     (0,0,8,0,0,0,2,4,0)\n",
    "# )\n",
    "\n",
    "# puzzle = (\n",
    "#     (0,0,0,0,0,2,8,0,3),\n",
    "#     (0,0,0,0,0,0,0,1,0),\n",
    "#     (5,0,9,3,1,0,0,2,4),\n",
    "#     (7,0,0,0,5,3,0,0,0),\n",
    "#     (0,0,0,7,0,9,0,0,0),\n",
    "#     (0,0,0,4,2,0,0,0,1),\n",
    "#     (9,1,0,0,3,7,5,0,8),\n",
    "#     (0,4,0,0,0,0,0,0,0),\n",
    "#     (8,0,3,9,0,0,0,0,0)\n",
    "# )\n",
    "\n",
    "# puzzle = (\n",
    "#     (0,0,0,0,0,0,0,0,0),\n",
    "#     (0,0,0,0,0,0,0,0,0),\n",
    "#     (0,0,0,0,0,0,0,1,0),\n",
    "#     (0,0,0,0,0,0,0,0,0),\n",
    "#     (0,0,0,0,0,0,0,0,0),\n",
    "#     (0,0,0,0,0,0,0,0,0),\n",
    "#     (0,0,0,0,0,0,0,0,0),\n",
    "#     (0,0,0,9,0,0,0,0,0),\n",
    "#     (0,0,0,0,0,0,0,0,0),\n",
    "# )\n",
    "\n",
    "file2 = open(r'pickle.dump', 'rb')\n",
    "puzzle = pickle.load(file2)\n",
    "file2.close()\n",
    "\n",
    "puzzle\n",
    "\n",
    "# constraint_5 = [ If(puzzle[i][j] == 0, True, L[i][j] == puzzle[i][j]) for i in range(9) for j in range(9) ]\n",
    "constraint_5 = [L[i][j] == puzzle[i][j] for i in range(size) for j in range(size) if puzzle[i][j]]\n",
    "s.add(constraint_5)"
   ]
  },
  {
   "cell_type": "code",
   "execution_count": 50,
   "id": "abf726f5-847b-4940-a2f2-33ab4c6decfb",
   "metadata": {},
   "outputs": [
    {
     "data": {
      "text/plain": [
       "[' 0  0  0  0  0  0  0  0  0  0  0  0  0  0  0  0  0  0  0  0  0  0  0  0  0',\n",
       " ' 0  0  0  0  0 10  0  0  0  0  0  0  0  0  0  0  0  0  0 24  0  0  0  0  0',\n",
       " ' 0  0  0  0  0  0  0  0  0  0  0  0  0  0  0  0  0  7  0  0  0  0  0  0  0',\n",
       " ' 0  0  0  0  0  0  0  0  0  0  0  0  0  0  0  0  0  0  0  0  0  0  0  0  0',\n",
       " ' 0  0  4  0  0  0  0  0  0  0  0  0  0  0  0  0  0  0  0  0  0  0  0  0  0',\n",
       " ' 0  0  0  0 16  0  0  0 22  0  0  0  0  0 18  0  0  0  0  0  0  0  0  0  0',\n",
       " ' 0  0  0  0  0  0  0  0  0  0  0  0  0  0  0  0  0  0  0  0  0  0  0  0  0',\n",
       " ' 0  0  0  0  0  0  0  0  0  0  0  0  0 16  0  0  0  0  0  0  0  0  0  0  0',\n",
       " ' 0  0  0  0  0  0 24  0  0  0  0  0  0  0  0  0  0  0  0 21  1  0  0  0  0',\n",
       " ' 0  0  0  0  0  0  0  0  0  0  6  0  0  0  0  0  0  0  0  0  0  0  0  0  0',\n",
       " ' 0  0  0  0  0  0  0  0  0  0  0  0  0  0  0  0  0  0  0  0  0 11  0  0  0',\n",
       " ' 0  0 12  0  0  0  0  0  0  0  0  0  0  0  0  0  0  0  0  0  0  0  0  0  0',\n",
       " ' 0  0  0  0  0  0  0  0  0  0 23  0  0  0  0  0  0  0  0  0  0  0  0  8  0',\n",
       " ' 0  0  0  0  0  0  0  0  0  0  0  0  0  0  0  0 18  0  0  0  0  0  0  0  0',\n",
       " ' 0  0  0  0  0  0  0  0  0  0  0  0  0  0  0  0  0  0  0  0  0  0  0  0  0',\n",
       " ' 0  0  0  0  0  0  0  0  0  0  0  0  0  0  0  0  0  0  0  0  0  0  0  0  0',\n",
       " ' 0  0  0  0  0  0  0  0  0  0  0  0  0  0  0  0  0 22  0  0  0  0  0  0  0',\n",
       " ' 0  0  0  0  0  0  0  0  0  0  0  0  0  0  0  0  0  0  0  0  0  0  0  0  0',\n",
       " ' 0  0  0  0  0  0  0  0  0  0  0  0  0  0  0  0  0  0  0  0  0  0  0 14  0',\n",
       " ' 0  0  0  0  0  0  0  0  0  0  0  0  0  0  0  0  0  0  0  0  0  0  0  0  0',\n",
       " ' 0  0  0  0  0  0  0  0  0 16  0  0  0  0  0  0  0  0  0  0  0  0  0  0  0',\n",
       " ' 0  0  0  0  0  0  1  0  0  0  0  0  0  0  0  0  0  0  0  0  0  0  0  0  0',\n",
       " ' 0  0  0  0  0  0  0  0  0  0  0  0  0  0  0  0  0  0  0  0  0  0  0  0  0',\n",
       " ' 0  0  0 14  0  0  0 17 15  0  0 10  0  0  0  0  0  0  0  0  0  0  0  0  0',\n",
       " ' 0  0  0  0  0  0  0  0  0  0  0  0  0  0  0  0  0  0  0  0  0  0  0  0  0']"
      ]
     },
     "execution_count": 50,
     "metadata": {},
     "output_type": "execute_result"
    }
   ],
   "source": [
    "[' '.join([f'{z:>2}' for z in map(str,_)]) for _ in puzzle]"
   ]
  },
  {
   "cell_type": "markdown",
   "id": "b8dc2e02",
   "metadata": {},
   "source": [
    "Finally we check if the model is SAT or UNSAT.  If the model is UNSAT, then we mention it; otherwise, we display the solution."
   ]
  },
  {
   "cell_type": "code",
   "execution_count": 51,
   "id": "caa93ce1",
   "metadata": {},
   "outputs": [],
   "source": [
    "def get_grid(puzzler):\n",
    "    size = len(puzzler)\n",
    "    m_size = int(size**(1/2))\n",
    "    char_len = len(str(size))\n",
    "    horizontal = '+' + ''.join([f'{\"-\"*(m_size * (char_len + 1) + 1)}+' for _ in range(m_size)])\n",
    "    output = ''\n",
    "    for r in range(size):\n",
    "        if r % m_size == 0:\n",
    "            output = output + f'{horizontal}\\n'\n",
    "        line = [' '.join([f'{_:>{char_len}}' for _ in puzzler[r][(c * m_size):(c * m_size+ m_size)]]) \n",
    "                for c in range(0, m_size)]\n",
    "        line_with_divider = ' | '.join([_ for _ in line])\n",
    "        output = output + f'| {line_with_divider} |\\n'\n",
    "    return f'{output}{horizontal}'.replace(f'{0:>{char_len}}',f'{\"∙\":>{char_len}}')\n",
    "\n",
    "def side_by_side(grid1,grid2, spaces=8):\n",
    "    gs1, gs2 = get_grid(grid1), get_grid(grid2)\n",
    "    s = [f'{s1}{\" \"*8}{s2}' for (s1, s2) in zip(gs1.split('\\n'), gs2.split('\\n'))]\n",
    "    return '\\n'.join(s)\n",
    "\n",
    "def exec_time(start, end):\n",
    "    return str(end - start)\n",
    "\n",
    "def get_solution(model, L):\n",
    "    #return [ [ model.eval(L[i][j]) for j in range(size) ] for i in range(size) ]\n",
    "    return [ [ model.eval(L[i][j]).as_long() for j in range(size) ] for i in range(size) ]"
   ]
  },
  {
   "cell_type": "code",
   "execution_count": 52,
   "id": "ff288583",
   "metadata": {
    "scrolled": true,
    "tags": []
   },
   "outputs": [
    {
     "name": "stdout",
     "output_type": "stream",
     "text": [
      "Execution time: 0:01:29.206645 \n",
      "\n",
      "+----------------+----------------+----------------+----------------+----------------+\n",
      "|  7 21 18  2  3 |  1 12 24  9  6 | 11 16 13 15 14 | 22 17 19  8  5 | 20 25  4 10 23 |\n",
      "| 22 25 14  9 17 | 10  7 15 16  2 |  1  8 12 18  4 | 21 20  6 23 24 | 19  3  5 13 11 |\n",
      "| 10 13 15 12  5 |  3 11  4 19 23 | 25  6 21 20 24 |  9  1  7  2 14 | 18 17 22 16  8 |\n",
      "| 16 19 24  8  6 | 22 18 20 13 21 | 17  3  5 10 23 | 12 11  4 15 25 |  7 14  9  2  1 |\n",
      "| 23  1  4 11 20 | 17  8 25 14  5 | 19  7  9 22  2 | 10  3 18 16 13 | 24 21 15 12  6 |\n",
      "+----------------+----------------+----------------+----------------+----------------+\n",
      "| 24 10  8  6 16 |  7 21 11 22  3 |  9 12 20  1 18 | 15  4 17 14 19 |  5 13 23 25  2 |\n",
      "|  2 22 11 15  7 | 19  4  1 18  9 |  5 21 25  8 17 | 23 13  3 10  6 | 14 20 12 24 16 |\n",
      "| 20  9  1 25 21 |  8  6 14  5 17 |  3  2 23 16 13 | 18 22 24 11 12 | 10 15  7  4 19 |\n",
      "|  5 18  3 19 23 | 16 24 13 10 12 | 15  4 11 14 22 |  7  2 20 25 21 |  1  8 17  6  9 |\n",
      "|  4 12 13 17 14 | 25 23  2 20 15 |  6 19 10 24  7 |  8 16  1  5  9 | 21 18 11  3 22 |\n",
      "+----------------+----------------+----------------+----------------+----------------+\n",
      "| 14 23  6 21 10 | 15 17 22  7 19 | 20  5 18 13  1 |  2 25 16 12  8 |  3 11 24  9  4 |\n",
      "|  1  8 12 18  4 | 21 20  6 23 24 | 10 17  3 11 15 | 14  9  5 19 22 | 13  2 16  7 25 |\n",
      "| 19  3  5 13 11 |  2 14 18 25  1 | 23  9  7  6 16 |  4 24 15 17 20 | 12 22 10  8 21 |\n",
      "| 15 16  7 22  2 | 11 10  9 12 13 |  4 24 19 25  8 |  3 18 21  6  1 | 23  5 20 17 14 |\n",
      "|  9 20 17 24 25 |  4  5 16  3  8 | 22 14  2 12 21 | 11 23 10 13  7 |  6  1 19 15 18 |\n",
      "+----------------+----------------+----------------+----------------+----------------+\n",
      "|  6 11 23  3 22 | 13 15 19 17  4 |  8  1 14  7 10 | 24 12 25 18 16 |  2  9 21 20  5 |\n",
      "| 17 14  2  7 19 | 18  9 12  6 20 | 13 11 16 23 25 |  5 21 22  3  4 | 15 24  8  1 10 |\n",
      "| 21 24 16  4 13 |  5 25  8  1 10 |  2 20 22  3 12 | 19 15 14  9 17 | 11 23  6 18  7 |\n",
      "|  8  5 20  1 18 | 24 16  3 11 22 | 21 15 17  9  6 | 13 10 23  7  2 |  4 19 25 14 12 |\n",
      "| 12 15 25 10  9 | 14  2 23 21  7 | 24 18  4 19  5 | 20  6  8  1 11 | 17 16 13 22  3 |\n",
      "+----------------+----------------+----------------+----------------+----------------+\n",
      "| 11  4 19  5  1 |  6  3 10  8 16 | 14 25 24 21  9 | 17  7  2 20 15 | 22 12 18 23 13 |\n",
      "| 25  6 21 20 24 |  9  1  7  2 14 | 18 13 15  4 19 | 16  5 12 22 23 |  8 10  3 11 17 |\n",
      "| 18 17 22 16  8 | 20 19 21  4 11 | 12 23  6  2  3 | 25 14 13 24 10 |  9  7  1  5 15 |\n",
      "| 13  7  9 14 12 | 23 22 17 15 18 | 16 10  1  5 20 |  6  8 11 21  3 | 25  4  2 19 24 |\n",
      "|  3  2 10 23 15 | 12 13  5 24 25 |  7 22  8 17 11 |  1 19  9  4 18 | 16  6 14 21 20 |\n",
      "+----------------+----------------+----------------+----------------+----------------+\n"
     ]
    }
   ],
   "source": [
    "start = datetime.now()\n",
    "status = str(s.check())\n",
    "end = datetime.now()\n",
    "\n",
    "print('Execution time:', exec_time(start, end), '\\n')\n",
    "\n",
    "solution = 'Model is UNSAT' if status == 'unset' else get_solution(s.model(), L)\n",
    "\n",
    "if status == 'unsat':\n",
    "    print(solution)\n",
    "else:\n",
    "    print(get_grid(solution))\n",
    "    #print(side_by_side(puzzle, solution).replace(' 0', ' '))"
   ]
  },
  {
   "cell_type": "code",
   "execution_count": 15,
   "id": "edb1dd94-5dff-4849-b964-86a37511dedc",
   "metadata": {},
   "outputs": [
    {
     "data": {
      "text/plain": [
       "'unsat'"
      ]
     },
     "execution_count": 15,
     "metadata": {},
     "output_type": "execute_result"
    }
   ],
   "source": [
    "status"
   ]
  },
  {
   "cell_type": "code",
   "execution_count": null,
   "id": "c12054ca-ac41-42e7-b2ba-a8b41c0013ae",
   "metadata": {},
   "outputs": [],
   "source": [
    "puzzlez = (\n",
    "    (0,0,0,0,0,2,8,0,3),\n",
    "    (0,0,0,0,0,0,0,1,0),\n",
    "    (5,0,9,3,1,0,0,2,4),\n",
    "    (7,0,0,0,5,3,0,0,0),\n",
    "    (0,0,0,7,0,9,0,0,0),\n",
    "    (0,0,0,4,2,0,0,0,1),\n",
    "    (9,1,0,0,3,7,5,0,8),\n",
    "    (0,4,0,0,0,0,0,0,0),\n",
    "    (8,0,3,9,0,0,0,0,0)\n",
    ")\n",
    "\n",
    "p = []\n",
    "for line in puzzlez:\n",
    "    length, cl = len(line), list(line)\n",
    "    left, index = 25 - length, length\n",
    "    while left > 0:\n",
    "        cl.append(line[index % length])\n",
    "        index = index + 1\n",
    "        left = left - 1\n",
    "    p.append(cl)\n",
    "\n",
    "index = 0\n",
    "left = len(p[0]) - len(p)\n",
    "length = len(p[0])\n",
    "while left > 0:\n",
    "    p.append(p[index % length])\n",
    "    left = left - 1\n",
    "    index = index + 1\n",
    "print('\\n'.join([str(_) for _ in p]))"
   ]
  },
  {
   "cell_type": "code",
   "execution_count": null,
   "id": "ea9d1420-d24a-48fa-a7ef-9e716aa5723a",
   "metadata": {},
   "outputs": [],
   "source": [
    "print(get_grid(p))"
   ]
  },
  {
   "cell_type": "code",
   "execution_count": null,
   "id": "f1e2e169",
   "metadata": {},
   "outputs": [],
   "source": [
    "puzzlez = (\n",
    "    (0,0,0,0,0,2,8,0,3,),\n",
    "    (0,0,0,0,0,0,0,1,0),\n",
    "    (5,0,9,3,1,0,0,2,4),\n",
    "    (7,0,0,0,5,3,0,0,0),\n",
    "    (0,0,0,7,0,9,0,0,0),\n",
    "    (0,0,0,4,2,0,0,0,1),\n",
    "    (9,1,0,0,3,7,5,0,8),\n",
    "    (0,4,0,0,0,0,0,0,0),\n",
    "    (8,0,3,9,0,0,0,0,0)\n",
    ")\n",
    "print(get_grid(puzzlez))"
   ]
  },
  {
   "cell_type": "code",
   "execution_count": null,
   "id": "798d17a9",
   "metadata": {},
   "outputs": [],
   "source": [
    "sol = np.array([ [solution[i][j].as_long() for j in range(size)] for i in range(size)])\n",
    "sol"
   ]
  },
  {
   "cell_type": "code",
   "execution_count": null,
   "id": "8dcf31f6",
   "metadata": {},
   "outputs": [],
   "source": [
    "np.sum(sol, axis=0)"
   ]
  },
  {
   "cell_type": "code",
   "execution_count": null,
   "id": "d14dbabc",
   "metadata": {},
   "outputs": [],
   "source": [
    "sol.sum(axis=1)"
   ]
  },
  {
   "cell_type": "code",
   "execution_count": null,
   "id": "602ff2b8",
   "metadata": {},
   "outputs": [],
   "source": [
    "sol.sum(axis=1) == [sum(range(1,size+1))] * size"
   ]
  },
  {
   "cell_type": "code",
   "execution_count": null,
   "id": "b48a38e5",
   "metadata": {},
   "outputs": [],
   "source": [
    "g = [[1,2,3,4],\n",
    "     [1,2,3,4],\n",
    "     [1,2,3,4],\n",
    "     [1,2,3,4]]\n",
    "\n",
    "t = [1,2,3,4]\n",
    "\n",
    "gp = np.array(g)"
   ]
  },
  {
   "cell_type": "code",
   "execution_count": null,
   "id": "365eb03f",
   "metadata": {},
   "outputs": [],
   "source": [
    "gp"
   ]
  },
  {
   "cell_type": "code",
   "execution_count": null,
   "id": "5ea15843",
   "metadata": {},
   "outputs": [],
   "source": [
    "gp == t"
   ]
  },
  {
   "cell_type": "code",
   "execution_count": null,
   "id": "905ac80c",
   "metadata": {},
   "outputs": [],
   "source": [
    "np.all(gp==t, axis=1)"
   ]
  },
  {
   "cell_type": "code",
   "execution_count": null,
   "id": "0520e77d",
   "metadata": {},
   "outputs": [],
   "source": [
    "np.unique(gp, axis=1)"
   ]
  },
  {
   "cell_type": "code",
   "execution_count": null,
   "id": "80af127b",
   "metadata": {},
   "outputs": [],
   "source": [
    "gp"
   ]
  },
  {
   "cell_type": "code",
   "execution_count": null,
   "id": "fd4fa725",
   "metadata": {},
   "outputs": [],
   "source": [
    "set(gp[0])"
   ]
  },
  {
   "cell_type": "code",
   "execution_count": null,
   "id": "e4b8a011",
   "metadata": {},
   "outputs": [],
   "source": [
    "len(set(gp[:,2]))"
   ]
  },
  {
   "cell_type": "code",
   "execution_count": null,
   "id": "d82f5223",
   "metadata": {},
   "outputs": [],
   "source": [
    "gp.T"
   ]
  },
  {
   "cell_type": "code",
   "execution_count": null,
   "id": "66f14a0a",
   "metadata": {},
   "outputs": [],
   "source": [
    "[len(set(_)) for i in size for _ in (gp[:,i] if axis else gp[i])]"
   ]
  },
  {
   "cell_type": "code",
   "execution_count": null,
   "id": "528eb33c",
   "metadata": {},
   "outputs": [],
   "source": [
    "axis=1\n",
    "z = [len(set(_)) for _ in (gp if axis == 1 else gp.T)]\n",
    "z"
   ]
  },
  {
   "cell_type": "code",
   "execution_count": null,
   "id": "f8959259",
   "metadata": {},
   "outputs": [],
   "source": [
    "siz = 4\n",
    "z2 = [siz]*siz\n",
    "np.all(z == z2)"
   ]
  },
  {
   "cell_type": "code",
   "execution_count": null,
   "id": "af351e1f",
   "metadata": {},
   "outputs": [],
   "source": [
    "def distinct(grid, axis=1):\n",
    "    '''\n",
    "    Verifies that either each of the columns or the rows has unique values. The check is based on the axis: axis=1, the default, checks the distinctness of the rows, whereas axis=0 checks the distinctness of the columns.\n",
    "    '''\n",
    "    if (axis > 2 or axis < 0):\n",
    "        raise Exception(f'Invalid value for axis: {axis=}')\n",
    "    if axis == 2:\n",
    "        grid_len = len(grid)\n",
    "        mini_box = int(math.sqrt(grid_len))\n",
    "        grid_prime = [grid[(i*mini_box):(i*mini_box + mini_box), (j*mini_box):(j*mini_box + mini_box)].flatten() \n",
    "                         for i in range(mini_box) for j in range(mini_box)]\n",
    "        lengths = [len(set(_)) for _ in grid_prime]\n",
    "        grid_len = len(grid)\n",
    "        grid_len = [grid_len] * grid_len\n",
    "        return np.all(lengths == grid_len)\n",
    "    \n",
    "    lengths = [len(set(_)) for _ in (grid if axis == 1 else grid.T)]\n",
    "    grid_len = len(grid)\n",
    "    grid_len = [grid_len] * grid_len\n",
    "    return np.all(lengths == grid_len)"
   ]
  },
  {
   "cell_type": "code",
   "execution_count": null,
   "id": "8a636242",
   "metadata": {},
   "outputs": [],
   "source": [
    "distinct(gp, axis=3)"
   ]
  },
  {
   "cell_type": "code",
   "execution_count": null,
   "id": "19253a28",
   "metadata": {},
   "outputs": [],
   "source": [
    "?Exception"
   ]
  },
  {
   "cell_type": "code",
   "execution_count": null,
   "id": "e44360bb",
   "metadata": {},
   "outputs": [],
   "source": [
    "math.sqrt(16)"
   ]
  },
  {
   "cell_type": "code",
   "execution_count": null,
   "id": "1ce1b671",
   "metadata": {},
   "outputs": [],
   "source": [
    "f = [[1,2,3],[4,5,6],[7,8,9]]"
   ]
  },
  {
   "cell_type": "code",
   "execution_count": null,
   "id": "e5f00487",
   "metadata": {},
   "outputs": [],
   "source": [
    "j = np.array(f).flatten()\n",
    "k = len(set(j))\n",
    "l = len(j)\n",
    "k == l, k, l"
   ]
  },
  {
   "cell_type": "code",
   "execution_count": null,
   "id": "947e8300",
   "metadata": {},
   "outputs": [],
   "source": [
    "size = 16\n",
    "mini_box = 4\n",
    "solution"
   ]
  },
  {
   "cell_type": "code",
   "execution_count": null,
   "id": "0485d119",
   "metadata": {},
   "outputs": [],
   "source": [
    "grid = np.array(solution)\n",
    "grid"
   ]
  },
  {
   "cell_type": "code",
   "execution_count": null,
   "id": "026d807e",
   "metadata": {},
   "outputs": [],
   "source": [
    "i = 3\n",
    "j = 3\n",
    "grid[(i*mini_box):(i*mini_box + mini_box), (j*mini_box):(j*mini_box + mini_box)]"
   ]
  },
  {
   "cell_type": "code",
   "execution_count": null,
   "id": "76ab8c02",
   "metadata": {},
   "outputs": [],
   "source": [
    "[grid[(i*mini_box):(i*mini_box + mini_box), (j*mini_box):(j*mini_box + mini_box)].flatten() \n",
    "     for i in range(mini_box) for j in range(mini_box)]"
   ]
  },
  {
   "cell_type": "code",
   "execution_count": null,
   "id": "81e16064",
   "metadata": {},
   "outputs": [],
   "source": [
    "sol = np.array(solution)"
   ]
  },
  {
   "cell_type": "code",
   "execution_count": null,
   "id": "4cd01bdd",
   "metadata": {},
   "outputs": [],
   "source": [
    "distinct(sol, axis=0)"
   ]
  },
  {
   "cell_type": "code",
   "execution_count": null,
   "id": "b7d914ab",
   "metadata": {},
   "outputs": [],
   "source": [
    "distinct(sol, axis=1)"
   ]
  },
  {
   "cell_type": "code",
   "execution_count": null,
   "id": "75f1308d",
   "metadata": {},
   "outputs": [],
   "source": [
    "distinct(sol, axis=2)"
   ]
  },
  {
   "cell_type": "code",
   "execution_count": null,
   "id": "83334fcf",
   "metadata": {},
   "outputs": [],
   "source": [
    "puzzle"
   ]
  },
  {
   "cell_type": "code",
   "execution_count": null,
   "id": "b5a71149-c906-4ef6-9a23-b371c6ed419c",
   "metadata": {},
   "outputs": [],
   "source": [
    "size = 16\n",
    "m_size = int(size**(1/2))\n",
    "size, m_size"
   ]
  },
  {
   "cell_type": "code",
   "execution_count": null,
   "id": "ee407cb4-2d54-4ec8-8f2d-8c88c53457b2",
   "metadata": {},
   "outputs": [],
   "source": [
    "top = puzzle[0][:size]\n",
    "puzzler = [_[:size] for _ in puzzle[:size]] \n",
    "puzzler"
   ]
  },
  {
   "cell_type": "code",
   "execution_count": null,
   "id": "1753c80f-1876-4741-9f6c-382171c23449",
   "metadata": {},
   "outputs": [],
   "source": [
    " ' | '.join([' '.join(map(str,top[(j*m_size):(j*m_size+m_size)])) for j in range(0, m_size)])"
   ]
  },
  {
   "cell_type": "code",
   "execution_count": null,
   "id": "f79ccf15-c46f-4d4a-a6e4-60a126962e0b",
   "metadata": {},
   "outputs": [],
   "source": [
    "'+' + ''.join([f'{\"-\"*(m_size * 2 + 1)}+' for _ in range(m_size)])"
   ]
  },
  {
   "cell_type": "code",
   "execution_count": null,
   "id": "cce77b6e-44ee-4e76-8218-7e6abff25eea",
   "metadata": {},
   "outputs": [],
   "source": [
    "def g_grid(puzzler):\n",
    "    size = len(puzzler)\n",
    "    m_size = int(size**(1/2))\n",
    "    char_len = len(str(size))\n",
    "    horizontal = '+' + ''.join([f'{\"-\"*(m_size * (char_len + 1) + 1)}+' for _ in range(m_size)])\n",
    "    output = ''\n",
    "    for i in range(size):\n",
    "        if i % m_size == 0:\n",
    "            output = output + f'{horizontal}\\n'\n",
    "        line = [' '.join([f'{_:>{char_len}}' for _ in puzzler[i][(j*m_size):(j*m_size+m_size)]]) for j in range(0, m_size)]\n",
    "        line_with_divider = ' | '.join([_ for _ in line])\n",
    "        output = output + f'| {line_with_divider} |\\n'\n",
    "    return f'{output}{horizontal}'.replace('0','∙')"
   ]
  },
  {
   "cell_type": "code",
   "execution_count": null,
   "id": "30e89c53-45ff-4012-88e3-a0b64d87a9dd",
   "metadata": {},
   "outputs": [],
   "source": [
    "print(g_grid(puzzler))"
   ]
  },
  {
   "cell_type": "code",
   "execution_count": null,
   "id": "1d83b97a-9742-4a44-8e27-78d2a2ef04ae",
   "metadata": {},
   "outputs": [],
   "source": [
    "f\"| {' | '.join([' '.join(map(str,puzzler[i][(j*m_size):(j*m_size+m_size)])) for j in range(0, m_size)])} |\\n\""
   ]
  },
  {
   "cell_type": "code",
   "execution_count": null,
   "id": "279fe146-ef56-458b-ab28-25ab6e4b3dce",
   "metadata": {},
   "outputs": [],
   "source": [
    "# output + [' '.join([f'{_:>2}' for _ in puzzler[i][(j*m_size):(j*m_size+m_size)]]) for j in range(0, m_size)] + \"\\n\""
   ]
  },
  {
   "cell_type": "code",
   "execution_count": null,
   "id": "f4f51b75-2eb0-4764-bd06-8f7198c768ee",
   "metadata": {},
   "outputs": [],
   "source": [
    "length"
   ]
  },
  {
   "cell_type": "code",
   "execution_count": null,
   "id": "9ef7bffb-9eb8-47a4-92ea-9a9a8a2fc4cd",
   "metadata": {},
   "outputs": [],
   "source": [
    "len(puzzler)"
   ]
  },
  {
   "cell_type": "code",
   "execution_count": null,
   "id": "f73a219e-fc66-4f4c-8478-f4dc26fe6b94",
   "metadata": {},
   "outputs": [],
   "source": []
  }
 ],
 "metadata": {
  "kernelspec": {
   "display_name": "Python 3 (ipykernel)",
   "language": "python",
   "name": "python3"
  },
  "language_info": {
   "codemirror_mode": {
    "name": "ipython",
    "version": 3
   },
   "file_extension": ".py",
   "mimetype": "text/x-python",
   "name": "python",
   "nbconvert_exporter": "python",
   "pygments_lexer": "ipython3",
   "version": "3.10.9"
  }
 },
 "nbformat": 4,
 "nbformat_minor": 5
}
