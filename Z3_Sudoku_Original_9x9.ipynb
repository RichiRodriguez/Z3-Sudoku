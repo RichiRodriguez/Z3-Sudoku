{
 "cells": [
  {
   "cell_type": "markdown",
   "id": "3b94a1c5",
   "metadata": {},
   "source": [
    "# Introduction\n",
    "\n",
    "Sudoku is a logic-based puzzle that originated in Japan.  It is appealing to people because the level of difficulty can be chosen by the user.  The levels of difficulty range from super easy to difficult.  Acceptance grew rapidly once it was introduced outside of Japan, partially because upon a quick look at a Sudoku puzzle, one can easily confuse it with a crossword puzzle (see figure 1).\t\n",
    "\n",
    "A typical Sudoku puzzle consists of a 9x9 grid that features the numbers 1-9.  As shown in figure 1, there is a main box around the 9x9 grid, but there are mini boxes of size 3x3, as seen in the grid.\t\n",
    "\n",
    "In order to win, a user must follow specific rules.  The main rules are:\n",
    "* The user can only use the numbers 1 to 9.\n",
    "* Every mini box (grid size 3x3) can only contain the numbers 1 to 9.\n",
    "* Every mini box cannot have duplicate numbers.\t\n",
    "* Every vertical column can only contain the numbers 1 to 9.\n",
    "* Every vertical column cannot have duplicate numbers.\t\n",
    "* Every horizontal row can only contain the numbers 1 to 9.\n",
    "* Every horizontal row cannot have duplicate numbers.\n",
    "\n",
    "Failure to follow the rules will result in duplicate numbers in either a mini box, a vertical column, or a horizontal row.  If the rules are followed, then the Sudoku puzzle is solved.\t\n",
    "\n",
    "\n",
    "# Proposed Approach\t\n",
    "\n",
    "My proposed approach is to use the Sudoku rules mentioned in the introduction.  Looking at all the rules at the same time can be stressing, but if I decompose the problems into smaller ones, then the problem is approachable as follows:\t\n",
    "\n",
    "Let $\\textbf{ψ}$ represent all the columns, such that $\\textbf{ψ_i}$ represents the $\\textbf{i^{th}}$ column\t\n",
    "Let $\\textbf{ϕ}$ represent all the rows, such that $\\textbf{ϕ_j}$ represents the $\\textbf{j^{th}}$ row\t\n",
    "Let $\\textbf{φ}$ represent all the mini boxes, such that $\\textbf{φ_k}$ represents the $\\textbf{k^{th}}$ mini box\t\n",
    "\n",
    "Having assigned the columns, rows, and mini boxes to symbols, I can now enforce the rules presented in the introduction.  To verify, for example, that $\\textbf{ψ_1}$ holds, I would need to verify that for every number in $\\textbf{ψ_1}$ that there are no duplicates. I would then need to perform the same test on $\\textbf{ψ_2…ψ_9}$.  After performing that test, $\\textbf{ψ}$ will hold if and only if  $\\textbf{ψ_1∧ψ_2∧ψ_3∧ψ_4∧ψ_5∧ψ_6∧ψ_7∧ψ_8∧ψ_9}$ holds.  The same will hold true for $\\textbf{ϕ}$ (all the rows) and for $\\textbf{φ}$ (all the mini boxes).  \n",
    "\n",
    "Following this logic, if $\\textbf{ψ∧ϕ∧φ}$ holds, then all the rules have been followed and the user has solve the Sudoku puzzle.\n",
    "\n",
    "While I have previously completed a Sudoku solver using dynamic programing, this time I plan on using a satisfiability module theory (SMT) solver, specifically the Z3 SMT solver.  This will allow me to apply the knowledge learned from class and to learn to program in the Z3 environment.\t\n"
   ]
  },
  {
   "cell_type": "markdown",
   "id": "2c08f5eb",
   "metadata": {},
   "source": [
    "$\\Phi$ $\\Psi$  \n",
    "$$\\phi_1$$"
   ]
  },
  {
   "cell_type": "markdown",
   "id": "10d1dd53",
   "metadata": {},
   "source": [
    "### Required Imports"
   ]
  },
  {
   "cell_type": "code",
   "execution_count": 1,
   "id": "d4a9995c",
   "metadata": {},
   "outputs": [],
   "source": [
    "from z3 import *\n",
    "from datetime import datetime"
   ]
  },
  {
   "cell_type": "markdown",
   "id": "b62fd066",
   "metadata": {},
   "source": [
    "### Configuration"
   ]
  },
  {
   "cell_type": "code",
   "execution_count": 2,
   "id": "aa43e9f3",
   "metadata": {},
   "outputs": [],
   "source": [
    "size = 9"
   ]
  },
  {
   "cell_type": "markdown",
   "id": "34e3b6c4",
   "metadata": {},
   "source": [
    "# Restraints (from introduction)\n",
    "\n",
    "As a recap, here are the restraints that my Sudoku Z3 solver requires\n",
    "\n",
    "* <span style=\"color:green\">Every mini box (grid size 3x3) can only contain the numbers 1 to 9.</span> (<span style=\"color:red\">Constraint 1</span>)\n",
    "* Every mini box cannot have duplicate numbers.  \n",
    "* <span style=\"color:green\">Every vertical column can only contain the numbers 1 to 9.</span> (<span style=\"color:red\">Constraint 2</span>)\n",
    "* Every vertical column cannot have duplicate numbers.  \n",
    "* <span style=\"color:green\">Every horizontal row can only contain the numbers 1 to 9.</span> (<span style=\"color:red\">Constraint 3</span>)\n",
    "* Every horizontal row cannot have duplicate numbers.  \n",
    "* <span style=\"color:green\">Every mini box can only contain the numbers 1 to 9.</span> (<span style=\"color:red\">Constraint 4</span>)  \n",
    "* Every box cannot have duplicate numbers.  "
   ]
  },
  {
   "cell_type": "markdown",
   "id": "7b9324b5",
   "metadata": {},
   "source": [
    "### Solution\n",
    "\n",
    "We first set the solution to restrict every element (shown in <span style=\"color:green\">green above</span>).\n",
    "\n",
    "We'll first create integer references for all locations, $L$, in the form $L_{ij}$ where $i$ refers to the rows and $j$ refers to the columns."
   ]
  },
  {
   "cell_type": "code",
   "execution_count": 3,
   "id": "47af61f3",
   "metadata": {},
   "outputs": [],
   "source": [
    "L = []\n",
    "for row in range(size):\n",
    "    L.append( [Int(f'L_{row}{col}') for col in range(size)] )"
   ]
  },
  {
   "cell_type": "markdown",
   "id": "f496807e",
   "metadata": {},
   "source": [
    "Next, we create the first restraint: a conjunction for every location ($L_{ij}$) where $1 \\leq L_{ij} \\leq 9$, then we check the constraints, such that  \n",
    "`constraint_1` = \n",
    "$$\\begin{align}\n",
    "&L_{00} \\wedge L_{01} \\wedge L_{02} \\wedge L_{03} \\wedge L_{04} \\wedge L_{05} \\wedge L_{06} \\wedge L_{07} \\wedge L_{08} \\wedge \\\\\n",
    "&L_{10} \\wedge L_{11} \\wedge L_{12} \\wedge L_{13} \\wedge L_{14} \\wedge L_{15} \\wedge L_{16} \\wedge L_{17} \\wedge L_{18} \\wedge \\\\\n",
    "&L_{20} \\wedge L_{21} \\wedge L_{22} \\wedge L_{23} \\wedge L_{24} \\wedge L_{25} \\wedge L_{26} \\wedge L_{27} \\wedge L_{28} \\wedge \\\\\n",
    "&L_{30} \\wedge L_{31} \\wedge L_{32} \\wedge L_{33} \\wedge L_{34} \\wedge L_{35} \\wedge L_{36} \\wedge L_{37} \\wedge L_{38} \\wedge \\\\\n",
    "&L_{40} \\wedge L_{41} \\wedge L_{42} \\wedge L_{43} \\wedge L_{44} \\wedge L_{45} \\wedge L_{46} \\wedge L_{47} \\wedge L_{48} \\wedge \\\\\n",
    "&L_{50} \\wedge L_{51} \\wedge L_{52} \\wedge L_{53} \\wedge L_{54} \\wedge L_{55} \\wedge L_{56} \\wedge L_{57} \\wedge L_{58} \\wedge \\\\\n",
    "&L_{60} \\wedge L_{61} \\wedge L_{62} \\wedge L_{63} \\wedge L_{64} \\wedge L_{65} \\wedge L_{66} \\wedge L_{67} \\wedge L_{68} \\wedge \\\\\n",
    "&L_{70} \\wedge L_{71} \\wedge L_{72} \\wedge L_{73} \\wedge L_{74} \\wedge L_{75} \\wedge L_{76} \\wedge L_{77} \\wedge L_{78} \\wedge \\\\\n",
    "&L_{80} \\wedge L_{81} \\wedge L_{82} \\wedge L_{83} \\wedge L_{84} \\wedge L_{85} \\wedge L_{86} \\wedge L_{87} \\wedge L_{88}\n",
    "\\end{align}$$"
   ]
  },
  {
   "cell_type": "code",
   "execution_count": 4,
   "id": "4a41684f",
   "metadata": {},
   "outputs": [],
   "source": [
    "constraint_1 = [ And( L[row][col] >= 1, L[row][col] <= 9)  for col in range(size) for row in range(size) ]"
   ]
  },
  {
   "cell_type": "markdown",
   "id": "481df71d",
   "metadata": {},
   "source": [
    "We now create the second restraint: every vertical column cannot have duplicate numbers, meaning that each vertical column can only contain distinct values. To accomplish this, we create an array of arrays, where each inner array represents a conjunction of each column, such as  \n",
    "`constraint_2` =  \n",
    "$$\n",
    "\\text{Column 1}: L_{00} \\wedge L_{10} \\wedge \\cdots \\wedge L_{70} \\wedge L_{80} \\\\\n",
    "\\text{Column 2}: L_{01} \\wedge L_{11} \\wedge \\cdots \\wedge L_{71} \\wedge L_{81} \\\\\n",
    "\\vdots \\hspace{3.5cm} \\vdots \\hspace{1.5cm} \\\\\n",
    "\\text{Column 8}: L_{07} \\wedge L_{17} \\wedge \\cdots \\wedge L_{77} \\wedge L_{87} \\\\\n",
    "\\text{Column 9}: L_{08} \\wedge L_{18} \\wedge \\cdots \\wedge L_{78} \\wedge L_{88} \\\\\n",
    "$$"
   ]
  },
  {
   "cell_type": "code",
   "execution_count": 5,
   "id": "fb6419d3",
   "metadata": {},
   "outputs": [],
   "source": [
    "constraint_2 = []\n",
    "for col in range(size):\n",
    "    constraint_2.append( Distinct( [L[row][col] for row in range(size)] ) )"
   ]
  },
  {
   "cell_type": "markdown",
   "id": "947c8526",
   "metadata": {},
   "source": [
    "We now create the third restraint: every horizontal row cannot have duplicate numbers, meaning that each horizontal row can only contain distinct values. To accomplish this, we create an array of arrays, where each inner array represents a conjunction of each row, such as  \n",
    "`constraint_3` =  \n",
    "$$\n",
    "\\text{Row 1}: L_{00} \\wedge L_{01} \\wedge \\cdots \\wedge L_{07} \\wedge L_{08} \\\\\n",
    "\\text{Row 2}: L_{10} \\wedge L_{11} \\wedge \\cdots \\wedge L_{17} \\wedge L_{18} \\\\\n",
    "\\vdots \\hspace{3.25cm} \\vdots \\hspace{1.90cm} \\\\\n",
    "\\text{Row 8}: L_{70} \\wedge L_{71} \\wedge \\cdots \\wedge L_{77} \\wedge L_{78} \\\\\n",
    "\\text{Row 9}: L_{88} \\wedge L_{88} \\wedge \\cdots \\wedge L_{87} \\wedge L_{88} \\\\\n",
    "$$"
   ]
  },
  {
   "cell_type": "code",
   "execution_count": 6,
   "id": "e73dbc98",
   "metadata": {},
   "outputs": [],
   "source": [
    "constraint_3 = []\n",
    "for row in range(size):\n",
    "    constraint_3.append( Distinct( [L[row][col] for col in range(size)] ) )"
   ]
  },
  {
   "cell_type": "markdown",
   "id": "5be4a1ff",
   "metadata": {},
   "source": [
    "We now create the fourth restraint: every mini box cannot have duplicate numbers, meaning that every mini box can only contain distinct values.  To accomplish this, we create helper a helper function, that given an $ij$ location for a mini box, will return a distinct mini box, such as\n",
    "`constraint_4` =  \n",
    "\n",
    "<img src=\"picture.jpg\" alt=\"Paris\" width=\"500px\" class=\"center\">"
   ]
  },
  {
   "cell_type": "code",
   "execution_count": 7,
   "id": "18902f3e",
   "metadata": {
    "scrolled": true
   },
   "outputs": [],
   "source": [
    "def get_mini_grid(array, i, j, size):\n",
    "    return [ L[i * size + y][j * size + x] for y in range(size) for x in range(size) ]\n",
    "\n",
    "mini_size = size // 3\n",
    "\n",
    "constraint_4 = [ Distinct( get_mini_grid(L, y, x, 3) )  for y in range(3) for x in range(3) ]  "
   ]
  },
  {
   "cell_type": "markdown",
   "id": "0db2f5da",
   "metadata": {},
   "source": [
    "### Create The Solver\n",
    "\n",
    "Now we create the solver and add the restraints"
   ]
  },
  {
   "cell_type": "code",
   "execution_count": 8,
   "id": "1f84564d",
   "metadata": {},
   "outputs": [],
   "source": [
    "s = Solver()\n",
    "s.add(constraint_1)\n",
    "s.add(constraint_2)\n",
    "s.add(constraint_3)\n",
    "s.add(constraint_4)"
   ]
  },
  {
   "cell_type": "markdown",
   "id": "be12b74c",
   "metadata": {},
   "source": [
    "Copy the Sudoku puzzle corresponding to every location in $L_{ij}$ and add them as constraint.  If a number is added, then it's a literal, otherwise it's left open for the Z3 solver to solve."
   ]
  },
  {
   "cell_type": "code",
   "execution_count": 9,
   "id": "1ed365c4",
   "metadata": {},
   "outputs": [],
   "source": [
    "# puzzle = (\n",
    "#     (0,7,2,0,0,0,1,0,0),\n",
    "#     (9,0,4,0,0,0,0,0,6),\n",
    "#     (0,0,0,0,7,5,0,0,2),\n",
    "#     (0,3,6,0,0,4,0,0,0),\n",
    "#     (4,0,0,0,9,0,0,0,3),\n",
    "#     (0,0,0,3,0,0,6,1,0),\n",
    "#     (3,0,0,9,8,0,0,0,0),\n",
    "#     (7,0,0,0,0,0,3,0,9),\n",
    "#     (0,0,8,0,0,0,2,4,0)\n",
    "# )\n",
    "\n",
    "puzzle = (\n",
    "    (0,0,0,0,0,2,8,0,3),\n",
    "    (0,0,0,0,0,0,0,1,0),\n",
    "    (5,0,9,3,1,0,0,2,4),\n",
    "    (7,0,0,0,5,3,0,0,0),\n",
    "    (0,0,0,7,0,9,0,0,0),\n",
    "    (0,0,0,4,2,0,0,0,1),\n",
    "    (9,1,0,0,3,7,5,0,8),\n",
    "    (0,4,0,0,0,0,0,0,0),\n",
    "    (8,0,3,9,0,0,0,0,0)\n",
    ")\n",
    "\n",
    "puzzle = (\n",
    "    (0,0,0,0,0,0,0,0,0),\n",
    "    (0,0,0,0,0,0,0,0,0),\n",
    "    (0,0,0,0,0,0,0,1,0),\n",
    "    (0,0,0,0,0,0,0,0,0),\n",
    "    (0,0,0,0,0,0,0,0,0),\n",
    "    (0,0,0,0,0,0,0,0,0),\n",
    "    (0,0,0,0,0,0,0,0,0),\n",
    "    (0,0,0,9,0,0,0,0,0),\n",
    "    (0,0,0,0,0,0,0,0,0),\n",
    ")\n",
    "\n",
    "# constraint_5 = [ If(puzzle[i][j] == 0, True, L[i][j] == puzzle[i][j]) for i in range(9) for j in range(9) ]\n",
    "constraint_5 = [L[i][j] == puzzle[i][j] for i in range(size) for j in range(size) if puzzle[i][j]]\n",
    "s.add(constraint_5)"
   ]
  },
  {
   "cell_type": "markdown",
   "id": "b8dc2e02",
   "metadata": {},
   "source": [
    "Finally we check if the model is SAT or UNSAT.  If the model is UNSAT, then we mention it; otherwise, we display the solution."
   ]
  },
  {
   "cell_type": "code",
   "execution_count": 10,
   "id": "caa93ce1",
   "metadata": {},
   "outputs": [],
   "source": [
    "def get_grid(sol, as_string=True):\n",
    "    s = [' '.join(str(_) for _ in sol[row]) for row in range(size)]\n",
    "    s = [f'{_[:5]} | {_[6:11]} | {_[12:]}' for _ in s]\n",
    "    s = [*s[:3], \"-\"*22, *s[3:6], \"-\"*22, *s[6:]]\n",
    "    return '\\n'.join(s) if as_string else s\n",
    "\n",
    "def side_by_side(grid1,grid2, spaces=8):\n",
    "    gs1, gs2 = get_grid(grid1), get_grid(grid2)\n",
    "    s = [f'{s1}{\" \"*8}{s2}' for (s1, s2) in zip(gs1.split('\\n'), gs2.split('\\n'))]\n",
    "    return '\\n'.join(s)\n",
    "\n",
    "def exec_time(start, end):\n",
    "    return str(end - start)\n",
    "\n",
    "def get_solution(model, L):\n",
    "    return [ [ model.eval(L[i][j]) for j in range(size) ] for i in range(size) ]"
   ]
  },
  {
   "cell_type": "code",
   "execution_count": 11,
   "id": "ff288583",
   "metadata": {},
   "outputs": [
    {
     "name": "stdout",
     "output_type": "stream",
     "text": [
      "Execution time: 0:00:25.095342 \n",
      "\n",
      "      |       |              7 5 8 | 4 1 9 | 6 2 3\n",
      "      |       |              1 9 2 | 3 8 6 | 7 4 5\n",
      "      |       |   1          6 4 3 | 2 7 5 | 9 1 8\n",
      "----------------------        ----------------------\n",
      "      |       |              9 8 6 | 5 3 2 | 1 7 4\n",
      "      |       |              2 3 5 | 7 4 1 | 8 9 6\n",
      "      |       |              4 7 1 | 6 9 8 | 3 5 2\n",
      "----------------------        ----------------------\n",
      "      |       |              8 6 9 | 1 2 4 | 5 3 7\n",
      "      | 9     |              5 2 7 | 9 6 3 | 4 8 1\n",
      "      |       |              3 1 4 | 8 5 7 | 2 6 9\n"
     ]
    }
   ],
   "source": [
    "start = datetime.now()\n",
    "status = str(s.check())\n",
    "end = datetime.now()\n",
    "\n",
    "print('Execution time:', exec_time(start, end), '\\n')\n",
    "\n",
    "solution = 'Model is UNSAT' if status == 'unset' else get_solution(s.model(), L)\n",
    "\n",
    "if status == 'unsat':\n",
    "    print(solution)\n",
    "else:\n",
    "    print(side_by_side(puzzle, solution).replace('0', ' '))"
   ]
  },
  {
   "cell_type": "code",
   "execution_count": 12,
   "id": "b1b1cb22-a3e8-445d-8df9-71bd33a29a1b",
   "metadata": {},
   "outputs": [
    {
     "ename": "NameError",
     "evalue": "name 'model' is not defined",
     "output_type": "error",
     "traceback": [
      "\u001b[1;31m---------------------------------------------------------------------------\u001b[0m",
      "\u001b[1;31mNameError\u001b[0m                                 Traceback (most recent call last)",
      "Cell \u001b[1;32mIn[12], line 1\u001b[0m\n\u001b[1;32m----> 1\u001b[0m [ [ model\u001b[38;5;241m.\u001b[39meval(L[i][j])\u001b[38;5;241m.\u001b[39mas_long() \u001b[38;5;28;01mfor\u001b[39;00m j \u001b[38;5;129;01min\u001b[39;00m \u001b[38;5;28mrange\u001b[39m(size) ] \u001b[38;5;28;01mfor\u001b[39;00m i \u001b[38;5;129;01min\u001b[39;00m \u001b[38;5;28mrange\u001b[39m(size) ]\n",
      "Cell \u001b[1;32mIn[12], line 1\u001b[0m, in \u001b[0;36m<listcomp>\u001b[1;34m(.0)\u001b[0m\n\u001b[1;32m----> 1\u001b[0m [ [ model\u001b[38;5;241m.\u001b[39meval(L[i][j])\u001b[38;5;241m.\u001b[39mas_long() \u001b[38;5;28;01mfor\u001b[39;00m j \u001b[38;5;129;01min\u001b[39;00m \u001b[38;5;28mrange\u001b[39m(size) ] \u001b[38;5;28;01mfor\u001b[39;00m i \u001b[38;5;129;01min\u001b[39;00m \u001b[38;5;28mrange\u001b[39m(size) ]\n",
      "Cell \u001b[1;32mIn[12], line 1\u001b[0m, in \u001b[0;36m<listcomp>\u001b[1;34m(.0)\u001b[0m\n\u001b[1;32m----> 1\u001b[0m [ [ \u001b[43mmodel\u001b[49m\u001b[38;5;241m.\u001b[39meval(L[i][j])\u001b[38;5;241m.\u001b[39mas_long() \u001b[38;5;28;01mfor\u001b[39;00m j \u001b[38;5;129;01min\u001b[39;00m \u001b[38;5;28mrange\u001b[39m(size) ] \u001b[38;5;28;01mfor\u001b[39;00m i \u001b[38;5;129;01min\u001b[39;00m \u001b[38;5;28mrange\u001b[39m(size) ]\n",
      "\u001b[1;31mNameError\u001b[0m: name 'model' is not defined"
     ]
    }
   ],
   "source": [
    "[ [ model.eval(L[i][j]).as_long() for j in range(size) ] for i in range(size) ]"
   ]
  },
  {
   "cell_type": "code",
   "execution_count": null,
   "id": "42a7e18b-1856-4917-83c7-d5eb0d3d0a72",
   "metadata": {},
   "outputs": [],
   "source": []
  }
 ],
 "metadata": {
  "kernelspec": {
   "display_name": "Python 3 (ipykernel)",
   "language": "python",
   "name": "python3"
  },
  "language_info": {
   "codemirror_mode": {
    "name": "ipython",
    "version": 3
   },
   "file_extension": ".py",
   "mimetype": "text/x-python",
   "name": "python",
   "nbconvert_exporter": "python",
   "pygments_lexer": "ipython3",
   "version": "3.10.9"
  }
 },
 "nbformat": 4,
 "nbformat_minor": 5
}
