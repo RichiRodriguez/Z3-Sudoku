{
 "cells": [
  {
   "cell_type": "markdown",
   "id": "10d1dd53",
   "metadata": {},
   "source": [
    "## Required Imports"
   ]
  },
  {
   "cell_type": "code",
   "execution_count": 1,
   "id": "d4a9995c",
   "metadata": {},
   "outputs": [],
   "source": [
    "from z3 import *\n",
    "from datetime import datetime\n",
    "import numpy as np\n",
    "import pickle"
   ]
  },
  {
   "cell_type": "markdown",
   "id": "7a311753-c98f-48ff-9055-3571e6828b39",
   "metadata": {},
   "source": [
    "## Helper functions"
   ]
  },
  {
   "cell_type": "code",
   "execution_count": 2,
   "id": "1bcb6900-59b2-404e-bbe4-33810df3f2eb",
   "metadata": {},
   "outputs": [],
   "source": [
    "def get_mini_grid(array, i, j, size):\n",
    "    return [ L[i * size + y][j * size + x] for y in range(size) for x in range(size) ]\n",
    "\n",
    "\n",
    "def get_grid(puzzler):\n",
    "    size = len(puzzler)\n",
    "    m_size = int(size**(1/2))\n",
    "    char_len = len(str(size))\n",
    "    horizontal = '+' + ''.join([f'{\"-\"*(m_size * (char_len + 1) + 1)}+' for _ in range(m_size)])\n",
    "    output = ''\n",
    "    for r in range(size):\n",
    "        if r % m_size == 0:\n",
    "            output = output + f'{horizontal}\\n'\n",
    "        line = [' '.join([f'{_:>{char_len}}' for _ in puzzler[r][(c * m_size):(c * m_size+ m_size)]]) \n",
    "                for c in range(0, m_size)]\n",
    "        line_with_divider = ' | '.join([_ for _ in line])\n",
    "        output = output + f'| {line_with_divider} |\\n'\n",
    "    return f'{output}{horizontal}'.replace(f'{0:>{char_len}}',f'{\"∙\":>{char_len}}')\n",
    "\n",
    "\n",
    "def exec_time(start, end):\n",
    "    return str(end - start)\n",
    "\n",
    "\n",
    "def get_solution(model, L):\n",
    "    return [ [ model.eval(L[i][j]).as_long() for j in range(size) ] for i in range(size) ]\n",
    "\n",
    "\n",
    "def side_by_side(grid1, grid2, label_1=None, label_2=None, spaces=5):\n",
    "    s1, s2 = get_grid(puzzle), get_grid(solution)\n",
    "    separator = ' ' * spaces\n",
    "    output = [f'{l}{separator}{r}' for (l, r) in zip(s1.split('\\n'), s2.split('\\n'))]\n",
    "    if label_1 is not None and label_2 is not None:\n",
    "        s1_len = len(s1.split('\\n')[0])\n",
    "        out = f'{label_1:<{s1_len}}{separator}{label_2}'\n",
    "        output.insert(0, out)\n",
    "    return '\\n'.join(output)"
   ]
  },
  {
   "cell_type": "markdown",
   "id": "b62fd066",
   "metadata": {
    "tags": []
   },
   "source": [
    "## Configuration\n",
    "1. Set puzzle\n",
    "2. Set size and mini box size ($\\textit{m_size}$)"
   ]
  },
  {
   "cell_type": "code",
   "execution_count": 3,
   "id": "aa43e9f3",
   "metadata": {},
   "outputs": [],
   "source": [
    "# Set the puzzle\n",
    "puzzle_16x16 = (\n",
    "    (0,0,0,0,0,0,0,0,0,0,0,0,0,0,0,1),\n",
    "    (0,0,0,0,0,0,0,0,0,0,0,0,0,0,0,0),\n",
    "    (0,0,0,0,0,0,0,3,0,0,0,13,0,0,0,4),\n",
    "    (0,0,0,0,0,0,0,0,0,0,0,0,0,0,0,0),\n",
    "    (0,0,1,0,0,0,0,0,0,0,0,0,0,0,0,0),\n",
    "    (0,0,0,0,0,0,0,0,0,0,0,0,0,0,0,0),\n",
    "    (0,0,0,0,0,0,0,0,0,0,0,0,0,0,0,0),\n",
    "    (0,0,0,0,0,0,15,0,0,0,0,0,0,0,0,0),\n",
    "    (0,0,0,0,0,0,0,0,0,0,0,0,0,0,0,0),\n",
    "    (0,0,0,0,0,0,0,0,0,0,0,0,0,7,0,0),\n",
    "    (0,0,0,0,0,0,0,0,0,0,0,0,0,0,0,0),\n",
    "    (0,0,0,5,0,0,0,0,0,0,0,0,0,0,0,0),\n",
    "    (0,0,0,0,0,0,0,0,0,0,0,0,0,0,0,0),\n",
    "    (0,0,0,0,0,0,0,0,0,0,9,0,0,0,0,8),\n",
    "    (0,0,0,0,0,0,0,0,0,0,0,0,0,0,0,0),\n",
    "    (0,0,0,7,0,0,0,0,0,0,0,0,12,0,0,0),\n",
    ")\n",
    "\n",
    "puzzle_25x25 = [\n",
    "    (0, 0, 0, 0, 0, 0, 0, 0, 0, 0, 0, 0, 0, 0, 0, 0, 0, 0, 0, 0, 0, 0, 0, 0, 0),\n",
    "    (0, 0, 0, 0, 0, 0, 0, 0, 0, 0, 0, 0, 0, 0, 0, 0, 0, 0, 0, 0, 0, 0, 0, 0, 0),\n",
    "    (0, 0, 0, 0, 0, 0, 0, 0, 0, 0, 0, 0, 0, 0, 0, 0, 0, 3, 0, 0, 0, 0, 0, 0, 0),\n",
    "    (0, 0, 0, 0, 0, 0, 0, 0, 0, 0, 0, 0, 0, 0, 0, 0, 0, 0, 0, 0, 0, 0, 0, 0, 0),\n",
    "    (0, 0, 0, 0, 0, 0, 0, 0, 0, 0, 0, 0, 0, 0, 0, 7, 0, 0, 0, 0, 0, 0, 0, 0, 0),\n",
    "    (0, 0, 0, 0, 0, 0, 0, 0, 0, 0, 0, 0, 0, 0, 0, 0, 0, 0, 0, 0, 0, 0, 0, 0, 0),\n",
    "    (0, 0, 0, 0, 0, 0, 0, 0, 0, 0, 0, 0, 0, 0, 0, 0, 0, 0, 0, 0, 0, 0, 0, 0, 0),\n",
    "    (0, 0, 0, 0, 0, 0, 0, 0, 0, 0, 0, 0, 0, 0, 0, 0, 0, 0, 0, 0, 0, 0, 0, 0, 0),\n",
    "    (0, 0, 0, 24, 0, 0, 0, 0, 0, 0, 0, 0, 0, 0, 0, 0, 9, 0, 0, 0, 0, 0, 0, 0, 24),\n",
    "    (0, 0, 0, 0, 0, 0, 0, 0, 0, 0, 0, 0, 0, 0, 0, 0, 0, 0, 0, 0, 0, 0, 0, 0, 0),\n",
    "    (0, 0, 0, 0, 0, 0, 0, 0, 0, 0, 0, 0, 0, 0, 0, 0, 0, 0, 0, 0, 0, 0, 11, 0, 0),\n",
    "    (0, 0, 0, 0, 0, 0, 0, 0, 0, 0, 0, 0, 0, 0, 0, 0, 0, 0, 0, 0, 0, 0, 0, 0, 0),\n",
    "    (0, 0, 0, 0, 0, 5, 0, 0, 0, 0, 0, 0, 0, 0, 0, 0, 0, 0, 0, 0, 0, 0, 0, 0, 0),\n",
    "    (0, 0, 0, 0, 0, 0, 0, 0, 0, 0, 0, 0, 0, 0, 0, 0, 0, 0, 0, 0, 0, 0, 0, 0, 0),\n",
    "    (0, 0, 0, 0, 0, 0, 0, 0, 0, 0, 0, 0, 0, 0, 0, 0, 0, 0, 0, 0, 0, 0, 0, 0, 0),\n",
    "    (0, 0, 0, 0, 0, 0, 0, 0, 0, 0, 0, 0, 0, 0, 0, 0, 0, 0, 0, 0, 0, 0, 0, 0, 0),\n",
    "    (0, 0, 0, 0, 0, 0, 0, 0, 0, 0, 0, 0, 0, 0, 0, 0, 0, 10, 0, 0, 0, 0, 0, 0, 0),\n",
    "    (0, 0, 0, 0, 0, 0, 0, 0, 0, 0, 0, 0, 0, 0, 0, 0, 0, 0, 0, 0, 0, 0, 0, 0, 0),\n",
    "    (0, 0, 0, 0, 0, 0, 0, 0, 0, 0, 0, 0, 13, 0, 0, 0, 0, 0, 0, 0, 0, 0, 0, 0, 0),\n",
    "    (0, 0, 0, 0, 0, 0, 0, 0, 0, 0, 0, 0, 0, 0, 0, 0, 0, 0, 0, 0, 0, 0, 0, 0, 0),\n",
    "    (0, 0, 0, 0, 0, 0, 0, 0, 0, 0, 0, 0, 0, 0, 0, 0, 0, 0, 0, 0, 0, 0, 0, 0, 0),\n",
    "    (0, 0, 0, 0, 0, 0, 0, 0, 0, 0, 0, 0, 0, 0, 0, 0, 0, 0, 0, 0, 0, 0, 0, 0, 0),\n",
    "    (0, 0, 0, 0, 8, 0, 0, 0, 0, 0, 0, 0, 0, 0, 0, 0, 0, 0, 0, 0, 0, 2, 0, 0, 0),\n",
    "    (0, 0, 0, 0, 0, 0, 0, 0, 0, 0, 0, 0, 0, 0, 0, 0, 0, 0, 0, 0, 0, 0, 0, 0, 0),\n",
    "    (0, 0, 0, 0, 0, 0, 0, 0, 0, 0, 0, 4, 0, 0, 0, 0, 0, 0, 0, 0, 0, 0, 0, 0, 0)\n",
    "]\n",
    "\n",
    "puzzle = puzzle_16x16\n",
    "\n",
    "# Set the size and m_size\n",
    "size = len(puzzle)\n",
    "m_size = int(size**(0.5))"
   ]
  },
  {
   "cell_type": "markdown",
   "id": "34e3b6c4",
   "metadata": {},
   "source": [
    "## Constraints\n",
    "\n",
    "As a recap, here are the restraints that my Sudoku Z3 solver requires\n",
    "\n",
    "* <span style=\"color:green\">Every mini box (grid size 3x3) can only contain the numbers 1 to 9.</span> (<span style=\"color:red\">Constraint 1</span>)\n",
    "* Every mini box cannot have duplicate numbers.  \n",
    "* <span style=\"color:green\">Every vertical column can only contain the numbers 1 to 9.</span> (<span style=\"color:red\">Constraint 2</span>)\n",
    "* Every vertical column cannot have duplicate numbers.  \n",
    "* <span style=\"color:green\">Every horizontal row can only contain the numbers 1 to 9.</span> (<span style=\"color:red\">Constraint 3</span>)\n",
    "* Every horizontal row cannot have duplicate numbers.  \n",
    "* <span style=\"color:green\">Every mini box can only contain the numbers 1 to 9.</span> (<span style=\"color:red\">Constraint 4</span>)  \n",
    "* Every box cannot have duplicate numbers.  "
   ]
  },
  {
   "cell_type": "markdown",
   "id": "7b9324b5",
   "metadata": {},
   "source": [
    "## Solution\n",
    "\n",
    "### Setup\n",
    "Before we start working on the solution, we must create references part references that Z3 will understand:"
   ]
  },
  {
   "cell_type": "code",
   "execution_count": 4,
   "id": "47af61f3",
   "metadata": {},
   "outputs": [],
   "source": [
    "L = []\n",
    "for row in range(size):\n",
    "    L.append( [Int(f'L_{row}{col}') for col in range(size)] )"
   ]
  },
  {
   "cell_type": "markdown",
   "id": "f496807e",
   "metadata": {},
   "source": [
    "### Constraints\n",
    "\n",
    "Now we can work on creating the solution for constraints 1-4 mentioned above:"
   ]
  },
  {
   "cell_type": "code",
   "execution_count": 5,
   "id": "4a41684f",
   "metadata": {},
   "outputs": [],
   "source": [
    "# Constraints every cells to the number 1 - {size}, where size is the size of the Sudoku as in sizeXsize\n",
    "constraint_1 = [ And( L[row][col] >= 1, L[row][col] <= size)  for col in range(size) for row in range(size) ]\n",
    "\n",
    "# Constraint on columns, so that each column has to be distinct\n",
    "constraint_2 = []\n",
    "for col in range(size):\n",
    "    constraint_2.append( Distinct( [L[row][col] for row in range(size)] ) )\n",
    "\n",
    "# Constraint on rows, so that each row has to be distinct\n",
    "constraint_3 = []\n",
    "for row in range(size):\n",
    "    constraint_3.append( Distinct( [L[row][col] for col in range(size)] ) )\n",
    "    \n",
    "constraint_4 = [ Distinct( get_mini_grid(L, y, x, m_size) )  for y in range(m_size) for x in range(m_size) ]  "
   ]
  },
  {
   "cell_type": "markdown",
   "id": "68938033-47d6-4e3e-ac06-88a9004714ad",
   "metadata": {},
   "source": [
    "### Add known values\n",
    "\n",
    "We now add the known values from the puzzle into the references in $\\textbf{L}$.  Since the zeros in the puzzle are outside constraint 1, we need to only add the non-zero references"
   ]
  },
  {
   "cell_type": "code",
   "execution_count": 6,
   "id": "780f0588-6ce0-491c-adb9-a741b677b0d6",
   "metadata": {},
   "outputs": [],
   "source": [
    "known_values = [L[i][j] == puzzle[i][j] for i in range(size) for j in range(size) if puzzle[i][j]]"
   ]
  },
  {
   "cell_type": "markdown",
   "id": "f16f09ee-9b43-4e10-803c-952c30fe61d6",
   "metadata": {},
   "source": [
    "### Z3 Solver\n",
    "\n",
    "We now create the Z3 solver, add the constraints, and the known values, and ask it to solve it for us, and explicited mention is the model was SAT or not."
   ]
  },
  {
   "cell_type": "code",
   "execution_count": 7,
   "id": "da5ac451-6944-4721-bda2-6323975f8750",
   "metadata": {},
   "outputs": [
    {
     "name": "stdout",
     "output_type": "stream",
     "text": [
      "Original puzzle:                                              Running time: 0:00:25.828756:\n",
      "+-------------+-------------+-------------+-------------+     +-------------+-------------+-------------+-------------+\n",
      "|  ∙  ∙  ∙  ∙ |  ∙  ∙  ∙  ∙ |  ∙  ∙  ∙  ∙ |  ∙  ∙  ∙  1 |     |  3 14  5  2 | 16  4 13 12 | 15  9  8  7 | 11  6 10  1 |\n",
      "|  ∙  ∙  ∙  ∙ |  ∙  ∙  ∙  ∙ |  ∙  ∙  ∙  ∙ |  ∙  ∙  ∙  ∙ |     |  6  9 13 16 | 14  8  1 15 | 12  4 10 11 |  3  5  2  7 |\n",
      "|  ∙  ∙  ∙  ∙ |  ∙  ∙  ∙  3 |  ∙  ∙  ∙ 13 |  ∙  ∙  ∙  4 |     | 11 15  7  8 |  5  9 10  3 |  2  6  1 13 | 14 12 16  4 |\n",
      "|  ∙  ∙  ∙  ∙ |  ∙  ∙  ∙  ∙ |  ∙  ∙  ∙  ∙ |  ∙  ∙  ∙  ∙ |     |  1 10  4 12 |  7  6  2 11 |  3 14  5 16 |  8 15  9 13 |\n",
      "+-------------+-------------+-------------+-------------+     +-------------+-------------+-------------+-------------+\n",
      "|  ∙  ∙  1  ∙ |  ∙  ∙  ∙  ∙ |  ∙  ∙  ∙  ∙ |  ∙  ∙  ∙  ∙ |     | 15  6  1  3 |  8  2  4 14 |  5 11  7 10 |  9 16 13 12 |\n",
      "|  ∙  ∙  ∙  ∙ |  ∙  ∙  ∙  ∙ |  ∙  ∙  ∙  ∙ |  ∙  ∙  ∙  ∙ |     |  5  8  2  4 |  1  3  7  9 | 13 12 16 15 |  6 10 11 14 |\n",
      "|  ∙  ∙  ∙  ∙ |  ∙  ∙  ∙  ∙ |  ∙  ∙  ∙  ∙ |  ∙  ∙  ∙  ∙ |     |  9  7 10 11 | 12 16  6 13 |  4  2 14  1 |  5  8  3 15 |\n",
      "|  ∙  ∙  ∙  ∙ |  ∙  ∙ 15  ∙ |  ∙  ∙  ∙  ∙ |  ∙  ∙  ∙  ∙ |     | 13 12 16 14 | 11  5 15 10 |  9  8  6  3 |  7  1  4  2 |\n",
      "+-------------+-------------+-------------+-------------+     +-------------+-------------+-------------+-------------+\n",
      "|  ∙  ∙  ∙  ∙ |  ∙  ∙  ∙  ∙ |  ∙  ∙  ∙  ∙ |  ∙  ∙  ∙  ∙ |     |  7  2 12 13 | 10  1  9  8 | 14 15  3  6 | 16  4  5 11 |\n",
      "|  ∙  ∙  ∙  ∙ |  ∙  ∙  ∙  ∙ |  ∙  ∙  ∙  ∙ |  ∙  7  ∙  ∙ |     | 14  1 15  6 |  3 12 11  5 | 16 10  2  4 | 13  7  8  9 |\n",
      "|  ∙  ∙  ∙  ∙ |  ∙  ∙  ∙  ∙ |  ∙  ∙  ∙  ∙ |  ∙  ∙  ∙  ∙ |     |  4 16  8  9 | 15 13 14  6 | 11  7 12  5 |  2  3  1 10 |\n",
      "|  ∙  ∙  ∙  5 |  ∙  ∙  ∙  ∙ |  ∙  ∙  ∙  ∙ |  ∙  ∙  ∙  ∙ |     | 10 11  3  5 |  2  7 16  4 |  8  1 13  9 | 15 14 12  6 |\n",
      "+-------------+-------------+-------------+-------------+     +-------------+-------------+-------------+-------------+\n",
      "|  ∙  ∙  ∙  ∙ |  ∙  ∙  ∙  ∙ |  ∙  ∙  ∙  ∙ |  ∙  ∙  ∙  ∙ |     |  8  5  6  1 |  9 15  3  2 |  7 13  4 12 | 10 11 14 16 |\n",
      "|  ∙  ∙  ∙  ∙ |  ∙  ∙  ∙  ∙ |  ∙  ∙  9  ∙ |  ∙  ∙  ∙  8 |     | 12  3 14 10 |  4 11  5  7 |  6 16  9  2 |  1 13 15  8 |\n",
      "|  ∙  ∙  ∙  ∙ |  ∙  ∙  ∙  ∙ |  ∙  ∙  ∙  ∙ |  ∙  ∙  ∙  ∙ |     | 16 13  9 15 |  6 14 12  1 | 10  5 11  8 |  4  2  7  3 |\n",
      "|  ∙  ∙  ∙  7 |  ∙  ∙  ∙  ∙ |  ∙  ∙  ∙  ∙ | 12  ∙  ∙  ∙ |     |  2  4 11  7 | 13 10  8 16 |  1  3 15 14 | 12  9  6  5 |\n",
      "+-------------+-------------+-------------+-------------+     +-------------+-------------+-------------+-------------+\n"
     ]
    }
   ],
   "source": [
    "# Create Z3 solver\n",
    "s = Solver()\n",
    "\n",
    "# Add the constraints\n",
    "s.add(constraint_1)\n",
    "s.add(constraint_2)\n",
    "s.add(constraint_3)\n",
    "s.add(constraint_4)\n",
    "\n",
    "# Add the known values\n",
    "s.add(known_values)\n",
    "\n",
    "# Ask the solver for a solution and record execution time\n",
    "start = datetime.now()\n",
    "status = str(s.check())\n",
    "end = datetime.now()\n",
    "\n",
    "if status == 'unsat':\n",
    "    print('Model is UNSAT')\n",
    "else:\n",
    "    solution = get_solution(s.model(), L)\n",
    "    run_time = 'Running time: ' + exec_time(start, end)\n",
    "    print(side_by_side(puzzle, solution, 'Original puzzle:', f'{run_time}:'))"
   ]
  },
  {
   "cell_type": "markdown",
   "id": "2ac45d14-0af4-4c0d-b499-b808b615e994",
   "metadata": {},
   "source": [
    "## Verification\n",
    "\n",
    "One of the biggest problems of a Sudoku puzzle is that a Sudoku puzzle might contain more than one solution.  Given a Sudoku puzzle with lots of known values, then the possibilities of the puzzle changing are minimizing.  The opposite is true: given a Sudoku puzzle with very few known values, the possibilities of having various solution increases.  This can be exemplified by an empty puzzle, the possiblities appear to seem endless because a different starting point will yield a different puzzle. So how do we go about verifying that the solution is correct?\n",
    "\n",
    "We do it manually.  The way we do it manually is by using the constraint rules, but verified independently.  In this case, I am using NumPy. There are two main functions that I create to verify the constraints:\n",
    "\n",
    "| Function | Description |\n",
    "|:--------:|-------------|\n",
    "|`sudoku_distinct` | Checks that every row or column is within the range ['1', '`size`'], verifies that the numbers are consecutive returning either True or False, and ultimately returns a conjunction of all the rows/columns. The paramter `which` is used to specify row/column by passing `which='row'` or `which='col'`, respectively. |\n",
    "|`sudoku_minigrids`| Creates mini grids from the full solution.  For each mini grid, it calls the function `sudoku_distinct` and ultimately returns a conjunction of all the mini grids. |\n",
    "\n",
    "Those functions follow:"
   ]
  },
  {
   "cell_type": "markdown",
   "id": "d336d5d2-2011-44f1-8d27-a3566afaaff1",
   "metadata": {},
   "source": [
    "### Verification helper functions"
   ]
  },
  {
   "cell_type": "code",
   "execution_count": 8,
   "id": "1f9fba1d-1798-48d8-a0f8-e0a67044b567",
   "metadata": {},
   "outputs": [],
   "source": [
    "def sudoku_distinct(puzzle, which='row'):\n",
    "    if which not in ['col', 'row']:\n",
    "        raise Exception(f'Invalid parameter: which')\n",
    "    grid = puzzle if isinstance(puzzle, np.ndarray) else np.array(puzzle)\n",
    "    size = grid.shape[1]\n",
    "    grid = grid if which == 'row' else grid.T\n",
    "    distinct_row = np.arange(grid[0].min(), grid[0].max() + 1)\n",
    "    condition_1 = np.logical_and(grid >= 1, grid <= size).all()\n",
    "    condition_3 = np.all(np.sort(grid, axis=1, kind=None, order=None) == distinct_row)\n",
    "    return np.all([condition_1, condition_3])\n",
    "\n",
    "\n",
    "def sudoku_minigrids(puzzle):\n",
    "    grid = puzzle if isinstance(puzzle, np.ndarray) else np.array(puzzle)\n",
    "    size = grid.shape[0]\n",
    "    m_size = int(size**(0.5))\n",
    "    minigrids = []\n",
    "    for i in range(m_size):\n",
    "        for j in range(m_size):\n",
    "            minigrids.append(grid[(i*m_size):(i*m_size + m_size), (j*m_size):(j*m_size + m_size)].reshape((-1,size)))\n",
    "    return np.all([sudoku_distinct(_) for _ in minigrids])"
   ]
  },
  {
   "cell_type": "code",
   "execution_count": 11,
   "id": "c3ae2f60-bf9c-416d-a337-6cf6ae7329c9",
   "metadata": {},
   "outputs": [
    {
     "name": "stdout",
     "output_type": "stream",
     "text": [
      "This sudoku solution follows the constraints: True\n"
     ]
    }
   ],
   "source": [
    "if 'solution' not in locals():\n",
    "    print('Model was UNSAT, therefore, there\\'s no need for verification')\n",
    "else:     \n",
    "    rows = sudoku_distinct(solution, which = 'row')\n",
    "    cols = sudoku_distinct(solution, which = 'col')\n",
    "    mini_grids = sudoku_minigrids(solution)\n",
    "    verification = rows & cols & mini_grids\n",
    "    print(f'This sudoku solution follows the constraints: {verification}')"
   ]
  },
  {
   "cell_type": "code",
   "execution_count": null,
   "id": "faf26aad-1c7d-4230-898d-e58809b2d14d",
   "metadata": {},
   "outputs": [],
   "source": []
  }
 ],
 "metadata": {
  "kernelspec": {
   "display_name": "Python 3 (ipykernel)",
   "language": "python",
   "name": "python3"
  },
  "language_info": {
   "codemirror_mode": {
    "name": "ipython",
    "version": 3
   },
   "file_extension": ".py",
   "mimetype": "text/x-python",
   "name": "python",
   "nbconvert_exporter": "python",
   "pygments_lexer": "ipython3",
   "version": "3.10.9"
  }
 },
 "nbformat": 4,
 "nbformat_minor": 5
}
