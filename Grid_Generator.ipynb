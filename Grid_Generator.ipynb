{
 "cells": [
  {
   "cell_type": "code",
   "execution_count": 25,
   "id": "220979e7-3534-4334-a4ba-e0508ec816c4",
   "metadata": {},
   "outputs": [],
   "source": [
    "import random\n",
    "import pickle"
   ]
  },
  {
   "cell_type": "code",
   "execution_count": 50,
   "id": "f04c9ecc-6e3b-44b6-a691-4b1027cde6a9",
   "metadata": {},
   "outputs": [],
   "source": [
    "size = 25\n",
    "puzzle = []\n",
    "total_numbers = 25"
   ]
  },
  {
   "cell_type": "code",
   "execution_count": 51,
   "id": "dee692ac-d5e1-4735-af83-ffbbdcd8fcca",
   "metadata": {},
   "outputs": [],
   "source": [
    "puzzle = [[0] * size for _ in range(size)]"
   ]
  },
  {
   "cell_type": "code",
   "execution_count": 52,
   "id": "caa9747c-af46-42bf-a085-90c79cd3161e",
   "metadata": {},
   "outputs": [],
   "source": [
    "for z in range(total_numbers):\n",
    "    i = random.randrange(0, size - 1)\n",
    "    j = random.randrange(0, size - 1)\n",
    "    n = random.randrange(1, size)\n",
    "    puzzle[i][j] = n"
   ]
  },
  {
   "cell_type": "code",
   "execution_count": 53,
   "id": "1d711a8a-00de-4191-88de-de19d7a671ce",
   "metadata": {},
   "outputs": [],
   "source": [
    "afile = open(r'pickle.dump', 'wb')\n",
    "pickle.dump(puzzle, afile)\n",
    "afile.close()"
   ]
  },
  {
   "cell_type": "code",
   "execution_count": 54,
   "id": "ca6a8fb0-76dc-426d-b168-da08727143f9",
   "metadata": {},
   "outputs": [
    {
     "name": "stdout",
     "output_type": "stream",
     "text": [
      "puzzle[1][5] = 10\n",
      "puzzle[1][19] = 24\n",
      "puzzle[2][17] = 7\n",
      "puzzle[4][2] = 4\n",
      "puzzle[5][4] = 16\n",
      "puzzle[5][8] = 22\n",
      "puzzle[5][14] = 18\n",
      "puzzle[7][13] = 16\n",
      "puzzle[8][6] = 24\n",
      "puzzle[8][19] = 21\n",
      "puzzle[8][20] = 1\n",
      "puzzle[9][10] = 6\n",
      "puzzle[10][21] = 11\n",
      "puzzle[11][2] = 12\n",
      "puzzle[12][10] = 23\n",
      "puzzle[12][23] = 8\n",
      "puzzle[13][16] = 18\n",
      "puzzle[16][17] = 22\n",
      "puzzle[18][23] = 14\n",
      "puzzle[20][9] = 16\n",
      "puzzle[21][6] = 1\n",
      "puzzle[23][3] = 14\n",
      "puzzle[23][7] = 17\n",
      "puzzle[23][8] = 15\n",
      "puzzle[23][11] = 10\n"
     ]
    }
   ],
   "source": [
    "for i in range(size):\n",
    "    for j in range(size):\n",
    "        if puzzle[i][j] > 0:\n",
    "            print(f'puzzle[{i}][{j}] = {puzzle[i][j]}')"
   ]
  },
  {
   "cell_type": "code",
   "execution_count": 55,
   "id": "257ffeec-4561-4012-80cd-d651f254a11c",
   "metadata": {},
   "outputs": [
    {
     "data": {
      "text/plain": [
       "[' 0  0  0  0  0  0  0  0  0  0  0  0  0  0  0  0  0  0  0  0  0  0  0  0  0',\n",
       " ' 0  0  0  0  0 10  0  0  0  0  0  0  0  0  0  0  0  0  0 24  0  0  0  0  0',\n",
       " ' 0  0  0  0  0  0  0  0  0  0  0  0  0  0  0  0  0  7  0  0  0  0  0  0  0',\n",
       " ' 0  0  0  0  0  0  0  0  0  0  0  0  0  0  0  0  0  0  0  0  0  0  0  0  0',\n",
       " ' 0  0  4  0  0  0  0  0  0  0  0  0  0  0  0  0  0  0  0  0  0  0  0  0  0',\n",
       " ' 0  0  0  0 16  0  0  0 22  0  0  0  0  0 18  0  0  0  0  0  0  0  0  0  0',\n",
       " ' 0  0  0  0  0  0  0  0  0  0  0  0  0  0  0  0  0  0  0  0  0  0  0  0  0',\n",
       " ' 0  0  0  0  0  0  0  0  0  0  0  0  0 16  0  0  0  0  0  0  0  0  0  0  0',\n",
       " ' 0  0  0  0  0  0 24  0  0  0  0  0  0  0  0  0  0  0  0 21  1  0  0  0  0',\n",
       " ' 0  0  0  0  0  0  0  0  0  0  6  0  0  0  0  0  0  0  0  0  0  0  0  0  0',\n",
       " ' 0  0  0  0  0  0  0  0  0  0  0  0  0  0  0  0  0  0  0  0  0 11  0  0  0',\n",
       " ' 0  0 12  0  0  0  0  0  0  0  0  0  0  0  0  0  0  0  0  0  0  0  0  0  0',\n",
       " ' 0  0  0  0  0  0  0  0  0  0 23  0  0  0  0  0  0  0  0  0  0  0  0  8  0',\n",
       " ' 0  0  0  0  0  0  0  0  0  0  0  0  0  0  0  0 18  0  0  0  0  0  0  0  0',\n",
       " ' 0  0  0  0  0  0  0  0  0  0  0  0  0  0  0  0  0  0  0  0  0  0  0  0  0',\n",
       " ' 0  0  0  0  0  0  0  0  0  0  0  0  0  0  0  0  0  0  0  0  0  0  0  0  0',\n",
       " ' 0  0  0  0  0  0  0  0  0  0  0  0  0  0  0  0  0 22  0  0  0  0  0  0  0',\n",
       " ' 0  0  0  0  0  0  0  0  0  0  0  0  0  0  0  0  0  0  0  0  0  0  0  0  0',\n",
       " ' 0  0  0  0  0  0  0  0  0  0  0  0  0  0  0  0  0  0  0  0  0  0  0 14  0',\n",
       " ' 0  0  0  0  0  0  0  0  0  0  0  0  0  0  0  0  0  0  0  0  0  0  0  0  0',\n",
       " ' 0  0  0  0  0  0  0  0  0 16  0  0  0  0  0  0  0  0  0  0  0  0  0  0  0',\n",
       " ' 0  0  0  0  0  0  1  0  0  0  0  0  0  0  0  0  0  0  0  0  0  0  0  0  0',\n",
       " ' 0  0  0  0  0  0  0  0  0  0  0  0  0  0  0  0  0  0  0  0  0  0  0  0  0',\n",
       " ' 0  0  0 14  0  0  0 17 15  0  0 10  0  0  0  0  0  0  0  0  0  0  0  0  0',\n",
       " ' 0  0  0  0  0  0  0  0  0  0  0  0  0  0  0  0  0  0  0  0  0  0  0  0  0']"
      ]
     },
     "execution_count": 55,
     "metadata": {},
     "output_type": "execute_result"
    }
   ],
   "source": [
    "[' '.join([f'{z:>2}' for z in map(str,_)]) for _ in puzzle]"
   ]
  },
  {
   "cell_type": "code",
   "execution_count": null,
   "id": "5d6554ea-0911-4c8e-8323-92bb5dddc084",
   "metadata": {},
   "outputs": [],
   "source": []
  },
  {
   "cell_type": "code",
   "execution_count": null,
   "id": "18c005d9-95ae-40f4-8c81-16625a034ad3",
   "metadata": {},
   "outputs": [],
   "source": []
  }
 ],
 "metadata": {
  "kernelspec": {
   "display_name": "Python 3 (ipykernel)",
   "language": "python",
   "name": "python3"
  },
  "language_info": {
   "codemirror_mode": {
    "name": "ipython",
    "version": 3
   },
   "file_extension": ".py",
   "mimetype": "text/x-python",
   "name": "python",
   "nbconvert_exporter": "python",
   "pygments_lexer": "ipython3",
   "version": "3.10.9"
  }
 },
 "nbformat": 4,
 "nbformat_minor": 5
}
